{
 "cells": [
  {
   "cell_type": "markdown",
   "metadata": {},
   "source": [
    "Get the dataset"
   ]
  },
  {
   "cell_type": "code",
   "execution_count": 1,
   "metadata": {},
   "outputs": [
    {
     "name": "stdout",
     "output_type": "stream",
     "text": [
      "Requirement already satisfied: keras in /usr/local/envs/py3env/lib/python3.5/site-packages (2.2.4)\n",
      "Requirement already satisfied: keras-applications>=1.0.6 in /usr/local/envs/py3env/lib/python3.5/site-packages (from keras) (1.0.7)\n",
      "Requirement already satisfied: pyyaml in /usr/local/envs/py3env/lib/python3.5/site-packages (from keras) (3.13)\n",
      "Requirement already satisfied: numpy>=1.9.1 in /usr/local/envs/py3env/lib/python3.5/site-packages (from keras) (1.14.0)\n",
      "Requirement already satisfied: scipy>=0.14 in /usr/local/envs/py3env/lib/python3.5/site-packages (from keras) (1.0.0)\n",
      "Requirement already satisfied: keras-preprocessing>=1.0.5 in /usr/local/envs/py3env/lib/python3.5/site-packages (from keras) (1.0.9)\n",
      "Requirement already satisfied: six>=1.9.0 in /usr/local/envs/py3env/lib/python3.5/site-packages (from keras) (1.10.0)\n",
      "Requirement already satisfied: h5py in /usr/local/envs/py3env/lib/python3.5/site-packages (from keras) (2.7.1)\n",
      "Requirement already satisfied: tensorboard in /usr/local/envs/py3env/lib/python3.5/site-packages (1.8.0)\n",
      "Requirement already satisfied: wheel>=0.26; python_version >= \"3\" in /usr/local/envs/py3env/lib/python3.5/site-packages (from tensorboard) (0.31.1)\n",
      "Requirement already satisfied: markdown>=2.6.8 in /usr/local/envs/py3env/lib/python3.5/site-packages (from tensorboard) (2.6.11)\n",
      "Requirement already satisfied: numpy>=1.12.0 in /usr/local/envs/py3env/lib/python3.5/site-packages (from tensorboard) (1.14.0)\n",
      "Requirement already satisfied: bleach==1.5.0 in /usr/local/envs/py3env/lib/python3.5/site-packages (from tensorboard) (1.5.0)\n",
      "Requirement already satisfied: protobuf>=3.4.0 in /usr/local/envs/py3env/lib/python3.5/site-packages (from tensorboard) (3.6.1)\n",
      "Requirement already satisfied: werkzeug>=0.11.10 in /usr/local/envs/py3env/lib/python3.5/site-packages (from tensorboard) (0.14.1)\n",
      "Requirement already satisfied: six>=1.10.0 in /usr/local/envs/py3env/lib/python3.5/site-packages (from tensorboard) (1.10.0)\n",
      "Requirement already satisfied: html5lib==0.9999999 in /usr/local/envs/py3env/lib/python3.5/site-packages (from tensorboard) (0.9999999)\n",
      "Requirement already satisfied: setuptools in /usr/local/envs/py3env/lib/python3.5/site-packages (from protobuf>=3.4.0->tensorboard) (40.2.0)\n"
     ]
    }
   ],
   "source": [
    "!pip3 install keras\n",
    "!pip3 install tensorboard"
   ]
  },
  {
   "cell_type": "code",
   "execution_count": 2,
   "metadata": {},
   "outputs": [
    {
     "data": {
      "text/html": [
       "<div>\n",
       "<style scoped>\n",
       "    .dataframe tbody tr th:only-of-type {\n",
       "        vertical-align: middle;\n",
       "    }\n",
       "\n",
       "    .dataframe tbody tr th {\n",
       "        vertical-align: top;\n",
       "    }\n",
       "\n",
       "    .dataframe thead th {\n",
       "        text-align: right;\n",
       "    }\n",
       "</style>\n",
       "<table border=\"1\" class=\"dataframe\">\n",
       "  <thead>\n",
       "    <tr style=\"text-align: right;\">\n",
       "      <th></th>\n",
       "      <th>Gender</th>\n",
       "      <th>Married</th>\n",
       "      <th>Education</th>\n",
       "      <th>Self_Employed</th>\n",
       "      <th>Property_Area</th>\n",
       "      <th>Dependents</th>\n",
       "      <th>Credit_History</th>\n",
       "      <th>ApplicantIncome</th>\n",
       "      <th>CoapplicantIncome</th>\n",
       "      <th>LoanAmount</th>\n",
       "      <th>Loan_Amount_Term</th>\n",
       "      <th>Loan_Status</th>\n",
       "    </tr>\n",
       "  </thead>\n",
       "  <tbody>\n",
       "    <tr>\n",
       "      <th>0</th>\n",
       "      <td>Male</td>\n",
       "      <td>No</td>\n",
       "      <td>Graduate</td>\n",
       "      <td>No</td>\n",
       "      <td>Urban</td>\n",
       "      <td>0</td>\n",
       "      <td>1.0</td>\n",
       "      <td>5849</td>\n",
       "      <td>0.0</td>\n",
       "      <td>NaN</td>\n",
       "      <td>360.0</td>\n",
       "      <td>Y</td>\n",
       "    </tr>\n",
       "    <tr>\n",
       "      <th>1</th>\n",
       "      <td>Male</td>\n",
       "      <td>Yes</td>\n",
       "      <td>Graduate</td>\n",
       "      <td>No</td>\n",
       "      <td>Rural</td>\n",
       "      <td>1</td>\n",
       "      <td>1.0</td>\n",
       "      <td>4583</td>\n",
       "      <td>1508.0</td>\n",
       "      <td>128.0</td>\n",
       "      <td>360.0</td>\n",
       "      <td>N</td>\n",
       "    </tr>\n",
       "    <tr>\n",
       "      <th>2</th>\n",
       "      <td>Male</td>\n",
       "      <td>Yes</td>\n",
       "      <td>Graduate</td>\n",
       "      <td>Yes</td>\n",
       "      <td>Urban</td>\n",
       "      <td>0</td>\n",
       "      <td>1.0</td>\n",
       "      <td>3000</td>\n",
       "      <td>0.0</td>\n",
       "      <td>66.0</td>\n",
       "      <td>360.0</td>\n",
       "      <td>Y</td>\n",
       "    </tr>\n",
       "    <tr>\n",
       "      <th>3</th>\n",
       "      <td>Male</td>\n",
       "      <td>Yes</td>\n",
       "      <td>Not Graduate</td>\n",
       "      <td>No</td>\n",
       "      <td>Urban</td>\n",
       "      <td>0</td>\n",
       "      <td>1.0</td>\n",
       "      <td>2583</td>\n",
       "      <td>2358.0</td>\n",
       "      <td>120.0</td>\n",
       "      <td>360.0</td>\n",
       "      <td>Y</td>\n",
       "    </tr>\n",
       "    <tr>\n",
       "      <th>4</th>\n",
       "      <td>Male</td>\n",
       "      <td>No</td>\n",
       "      <td>Graduate</td>\n",
       "      <td>No</td>\n",
       "      <td>Urban</td>\n",
       "      <td>0</td>\n",
       "      <td>1.0</td>\n",
       "      <td>6000</td>\n",
       "      <td>0.0</td>\n",
       "      <td>141.0</td>\n",
       "      <td>360.0</td>\n",
       "      <td>Y</td>\n",
       "    </tr>\n",
       "  </tbody>\n",
       "</table>\n",
       "</div>"
      ],
      "text/plain": [
       "  Gender Married     Education Self_Employed Property_Area Dependents  \\\n",
       "0   Male      No      Graduate            No         Urban          0   \n",
       "1   Male     Yes      Graduate            No         Rural          1   \n",
       "2   Male     Yes      Graduate           Yes         Urban          0   \n",
       "3   Male     Yes  Not Graduate            No         Urban          0   \n",
       "4   Male      No      Graduate            No         Urban          0   \n",
       "\n",
       "   Credit_History  ApplicantIncome  CoapplicantIncome  LoanAmount  \\\n",
       "0             1.0             5849                0.0         NaN   \n",
       "1             1.0             4583             1508.0       128.0   \n",
       "2             1.0             3000                0.0        66.0   \n",
       "3             1.0             2583             2358.0       120.0   \n",
       "4             1.0             6000                0.0       141.0   \n",
       "\n",
       "   Loan_Amount_Term Loan_Status  \n",
       "0             360.0           Y  \n",
       "1             360.0           N  \n",
       "2             360.0           Y  \n",
       "3             360.0           Y  \n",
       "4             360.0           Y  "
      ]
     },
     "execution_count": 2,
     "metadata": {},
     "output_type": "execute_result"
    }
   ],
   "source": [
    "import pandas as pd\n",
    "import numpy as np\n",
    "\n",
    "dataset = pd.read_csv('data/loan_approval_dataset.csv')\n",
    "#Exclude first column (id) from X and reorder the columns\n",
    "dataset = dataset[['Gender','Married','Education','Self_Employed','Property_Area','Dependents','Credit_History',\n",
    "                  'ApplicantIncome','CoapplicantIncome','LoanAmount','Loan_Amount_Term','Loan_Status']]\n",
    "dataset.iloc[:5,:]"
   ]
  },
  {
   "cell_type": "code",
   "execution_count": 3,
   "metadata": {},
   "outputs": [],
   "source": [
    "\n",
    "X = dataset.iloc[:,:-1].values\n",
    "y = dataset.iloc[:,-1:].values\n",
    "\n",
    "# Column 5 (Dependents) - 3+ => 3\n",
    "for i in range(X.shape[0]):\n",
    "  if(X[i,5] == '3+'):\n",
    "    X[i,5] = 3\n",
    "\n",
    "# Taking care of missing data\n",
    "from sklearn.preprocessing import Imputer\n",
    "imputer = Imputer(missing_values = 'NaN', strategy = 'mean', axis = 0)\n",
    "imputer = imputer.fit(X[:, 5:])\n",
    "X[:, 5:] = imputer.transform(X[:, 5:])"
   ]
  },
  {
   "cell_type": "code",
   "execution_count": 4,
   "metadata": {},
   "outputs": [],
   "source": [
    "# Encoding the categorical data\n",
    "from sklearn.preprocessing import LabelEncoder, OneHotEncoder\n",
    "X[:, :5] = np.apply_along_axis(LabelEncoder().fit_transform,axis=1, arr=X[:, :5].astype('str'))\n",
    "y = LabelEncoder().fit_transform(y.ravel())\n",
    "onehotencoder = OneHotEncoder(categorical_features = [0,1,2,3,4])\n",
    "X = onehotencoder.fit_transform(X).toarray()"
   ]
  },
  {
   "cell_type": "code",
   "execution_count": 5,
   "metadata": {},
   "outputs": [],
   "source": [
    "# Feature Scaling for numerical data\n",
    "from sklearn.preprocessing import StandardScaler\n",
    "sc = StandardScaler()\n",
    "X[:,20:] = sc.fit_transform(X[:,20:])"
   ]
  },
  {
   "cell_type": "code",
   "execution_count": 6,
   "metadata": {},
   "outputs": [
    {
     "data": {
      "text/html": [
       "<div>\n",
       "<style scoped>\n",
       "    .dataframe tbody tr th:only-of-type {\n",
       "        vertical-align: middle;\n",
       "    }\n",
       "\n",
       "    .dataframe tbody tr th {\n",
       "        vertical-align: top;\n",
       "    }\n",
       "\n",
       "    .dataframe thead th {\n",
       "        text-align: right;\n",
       "    }\n",
       "</style>\n",
       "<table border=\"1\" class=\"dataframe\">\n",
       "  <thead>\n",
       "    <tr style=\"text-align: right;\">\n",
       "      <th></th>\n",
       "      <th>0</th>\n",
       "      <th>1</th>\n",
       "      <th>2</th>\n",
       "      <th>3</th>\n",
       "      <th>4</th>\n",
       "      <th>5</th>\n",
       "      <th>6</th>\n",
       "      <th>7</th>\n",
       "      <th>8</th>\n",
       "      <th>9</th>\n",
       "      <th>...</th>\n",
       "      <th>15</th>\n",
       "      <th>16</th>\n",
       "      <th>17</th>\n",
       "      <th>18</th>\n",
       "      <th>19</th>\n",
       "      <th>20</th>\n",
       "      <th>21</th>\n",
       "      <th>22</th>\n",
       "      <th>23</th>\n",
       "      <th>24</th>\n",
       "    </tr>\n",
       "  </thead>\n",
       "  <tbody>\n",
       "    <tr>\n",
       "      <th>0</th>\n",
       "      <td>0.0</td>\n",
       "      <td>1.0</td>\n",
       "      <td>0.0</td>\n",
       "      <td>0.0</td>\n",
       "      <td>0.0</td>\n",
       "      <td>1.0</td>\n",
       "      <td>0.0</td>\n",
       "      <td>0.0</td>\n",
       "      <td>1.0</td>\n",
       "      <td>0.0</td>\n",
       "      <td>...</td>\n",
       "      <td>0.0</td>\n",
       "      <td>0.0</td>\n",
       "      <td>0.0</td>\n",
       "      <td>1.0</td>\n",
       "      <td>0.0</td>\n",
       "      <td>0.45164</td>\n",
       "      <td>0.072991</td>\n",
       "      <td>-0.554487</td>\n",
       "      <td>3.384786e-16</td>\n",
       "      <td>0.279851</td>\n",
       "    </tr>\n",
       "    <tr>\n",
       "      <th>1</th>\n",
       "      <td>0.0</td>\n",
       "      <td>1.0</td>\n",
       "      <td>0.0</td>\n",
       "      <td>0.0</td>\n",
       "      <td>0.0</td>\n",
       "      <td>0.0</td>\n",
       "      <td>0.0</td>\n",
       "      <td>1.0</td>\n",
       "      <td>1.0</td>\n",
       "      <td>0.0</td>\n",
       "      <td>...</td>\n",
       "      <td>0.0</td>\n",
       "      <td>0.0</td>\n",
       "      <td>0.0</td>\n",
       "      <td>1.0</td>\n",
       "      <td>1.0</td>\n",
       "      <td>0.45164</td>\n",
       "      <td>-0.134412</td>\n",
       "      <td>-0.038732</td>\n",
       "      <td>-2.192733e-01</td>\n",
       "      <td>0.279851</td>\n",
       "    </tr>\n",
       "    <tr>\n",
       "      <th>2</th>\n",
       "      <td>0.0</td>\n",
       "      <td>1.0</td>\n",
       "      <td>0.0</td>\n",
       "      <td>0.0</td>\n",
       "      <td>0.0</td>\n",
       "      <td>0.0</td>\n",
       "      <td>1.0</td>\n",
       "      <td>0.0</td>\n",
       "      <td>1.0</td>\n",
       "      <td>0.0</td>\n",
       "      <td>...</td>\n",
       "      <td>0.0</td>\n",
       "      <td>0.0</td>\n",
       "      <td>1.0</td>\n",
       "      <td>0.0</td>\n",
       "      <td>0.0</td>\n",
       "      <td>0.45164</td>\n",
       "      <td>-0.393747</td>\n",
       "      <td>-0.554487</td>\n",
       "      <td>-9.576410e-01</td>\n",
       "      <td>0.279851</td>\n",
       "    </tr>\n",
       "    <tr>\n",
       "      <th>3</th>\n",
       "      <td>1.0</td>\n",
       "      <td>0.0</td>\n",
       "      <td>0.0</td>\n",
       "      <td>0.0</td>\n",
       "      <td>0.0</td>\n",
       "      <td>0.0</td>\n",
       "      <td>0.0</td>\n",
       "      <td>1.0</td>\n",
       "      <td>0.0</td>\n",
       "      <td>0.0</td>\n",
       "      <td>...</td>\n",
       "      <td>0.0</td>\n",
       "      <td>0.0</td>\n",
       "      <td>0.0</td>\n",
       "      <td>1.0</td>\n",
       "      <td>0.0</td>\n",
       "      <td>0.45164</td>\n",
       "      <td>-0.462062</td>\n",
       "      <td>0.251980</td>\n",
       "      <td>-3.145466e-01</td>\n",
       "      <td>0.279851</td>\n",
       "    </tr>\n",
       "    <tr>\n",
       "      <th>4</th>\n",
       "      <td>0.0</td>\n",
       "      <td>1.0</td>\n",
       "      <td>0.0</td>\n",
       "      <td>0.0</td>\n",
       "      <td>0.0</td>\n",
       "      <td>1.0</td>\n",
       "      <td>0.0</td>\n",
       "      <td>0.0</td>\n",
       "      <td>1.0</td>\n",
       "      <td>0.0</td>\n",
       "      <td>...</td>\n",
       "      <td>0.0</td>\n",
       "      <td>0.0</td>\n",
       "      <td>0.0</td>\n",
       "      <td>1.0</td>\n",
       "      <td>0.0</td>\n",
       "      <td>0.45164</td>\n",
       "      <td>0.097728</td>\n",
       "      <td>-0.554487</td>\n",
       "      <td>-6.445428e-02</td>\n",
       "      <td>0.279851</td>\n",
       "    </tr>\n",
       "  </tbody>\n",
       "</table>\n",
       "<p>5 rows × 25 columns</p>\n",
       "</div>"
      ],
      "text/plain": [
       "    0    1    2    3    4    5    6    7    8    9     ...      15   16   17  \\\n",
       "0  0.0  1.0  0.0  0.0  0.0  1.0  0.0  0.0  1.0  0.0    ...     0.0  0.0  0.0   \n",
       "1  0.0  1.0  0.0  0.0  0.0  0.0  0.0  1.0  1.0  0.0    ...     0.0  0.0  0.0   \n",
       "2  0.0  1.0  0.0  0.0  0.0  0.0  1.0  0.0  1.0  0.0    ...     0.0  0.0  1.0   \n",
       "3  1.0  0.0  0.0  0.0  0.0  0.0  0.0  1.0  0.0  0.0    ...     0.0  0.0  0.0   \n",
       "4  0.0  1.0  0.0  0.0  0.0  1.0  0.0  0.0  1.0  0.0    ...     0.0  0.0  0.0   \n",
       "\n",
       "    18   19       20        21        22            23        24  \n",
       "0  1.0  0.0  0.45164  0.072991 -0.554487  3.384786e-16  0.279851  \n",
       "1  1.0  1.0  0.45164 -0.134412 -0.038732 -2.192733e-01  0.279851  \n",
       "2  0.0  0.0  0.45164 -0.393747 -0.554487 -9.576410e-01  0.279851  \n",
       "3  1.0  0.0  0.45164 -0.462062  0.251980 -3.145466e-01  0.279851  \n",
       "4  1.0  0.0  0.45164  0.097728 -0.554487 -6.445428e-02  0.279851  \n",
       "\n",
       "[5 rows x 25 columns]"
      ]
     },
     "execution_count": 6,
     "metadata": {},
     "output_type": "execute_result"
    }
   ],
   "source": [
    "pd.DataFrame(X).iloc[:5,:]"
   ]
  },
  {
   "cell_type": "code",
   "execution_count": 7,
   "metadata": {},
   "outputs": [],
   "source": [
    "from sklearn.model_selection import train_test_split\n",
    "X_train, X_test, y_train, y_test = train_test_split(X, y, test_size = 0.25)"
   ]
  },
  {
   "cell_type": "markdown",
   "metadata": {},
   "source": [
    "# 2. Models"
   ]
  },
  {
   "cell_type": "markdown",
   "metadata": {},
   "source": [
    "## 2.1 Logistic Regression"
   ]
  },
  {
   "cell_type": "code",
   "execution_count": 8,
   "metadata": {},
   "outputs": [],
   "source": [
    "from sklearn.linear_model import LogisticRegression\n",
    "from sklearn.metrics import accuracy_score\n",
    "import matplotlib.pyplot as plt\n",
    "\n",
    "def logistic_regression(X_train, y_train, X_test, y_test):\n",
    "  classifier = LogisticRegression()\n",
    "  classifier.fit(X_train, y_train)\n",
    "  y_train_pred = classifier.predict(X_train)\n",
    "  y_test_pred = classifier.predict(X_test)\n",
    "  return accuracy_score(y_train_pred, y_train), accuracy_score(y_test_pred,y_test)\n",
    "\n",
    "def show_results(training_eval, test_eval):\n",
    "  plt.gca().set_ylim([0,1])\n",
    "  plt.plot(training_eval, label='Training Accuracy')\n",
    "  plt.plot(test_eval, label='Test Accuracy')\n",
    "  plt.legend()\n",
    "  plt.xlabel('Training set size')\n",
    "  plt.ylabel('Accuracy')\n",
    "  plt.show()"
   ]
  },
  {
   "cell_type": "code",
   "execution_count": 9,
   "metadata": {},
   "outputs": [
    {
     "name": "stdout",
     "output_type": "stream",
     "text": [
      "Logistic Regression 1/10...\r",
      "Logistic Regression 2/10...\r",
      "Logistic Regression 3/10...\r",
      "Logistic Regression 4/10...\r",
      "Logistic Regression 5/10...\r",
      "Logistic Regression 6/10...\r",
      "Logistic Regression 7/10...\r",
      "Logistic Regression 8/10...\r",
      "Logistic Regression 9/10...\r",
      "Logistic Regression 10/10...\r"
     ]
    },
    {
     "name": "stderr",
     "output_type": "stream",
     "text": [
      "/usr/local/envs/py3env/lib/python3.5/site-packages/matplotlib/font_manager.py:1320: UserWarning: findfont: Font family ['sans-serif'] not found. Falling back to DejaVu Sans\n",
      "  (prop.get_family(), self.defaultFamily[fontext]))\n"
     ]
    },
    {
     "data": {
      "image/png": "[encoded data removed]",
      "text/plain": [
       "<matplotlib.figure.Figure at 0x7f68c406f438>"
      ]
     },
     "metadata": {},
     "output_type": "display_data"
    }
   ],
   "source": [
    "lr_eval = pd.DataFrame(0, index=range(10), columns=['train', 'test']).astype(float)\n",
    "\n",
    "for i in range(10):\n",
    "  print('Logistic Regression {}/10...'.format(i+1), end='\\r')\n",
    "  subset_size = int(round(((i+1)*X_train.shape[0]/10)))\n",
    "  [lr_eval.values[i,0],lr_eval.values[i,1]] = logistic_regression(X_train[:subset_size,:], y_train[:subset_size], X_test, y_test)\n",
    "  \n",
    "show_results(lr_eval['train'], lr_eval['test'])"
   ]
  },
  {
   "cell_type": "markdown",
   "metadata": {},
   "source": [
    "## 2.2 K-Nearest Neighbors"
   ]
  },
  {
   "cell_type": "code",
   "execution_count": 10,
   "metadata": {},
   "outputs": [],
   "source": [
    "from sklearn.neighbors import KNeighborsClassifier\n",
    "def knn(X_train,y_train,X_test,y_test):\n",
    "  classifier = KNeighborsClassifier(n_neighbors = 10, metric = 'minkowski', p = 2)\n",
    "  classifier.fit(X_train, y_train)\n",
    "  y_train_pred = classifier.predict(X_train)\n",
    "  y_test_pred = classifier.predict(X_test)\n",
    "  return accuracy_score(y_train_pred, y_train), accuracy_score(y_test_pred, y_test)"
   ]
  },
  {
   "cell_type": "code",
   "execution_count": 11,
   "metadata": {},
   "outputs": [
    {
     "name": "stdout",
     "output_type": "stream",
     "text": [
      "KNN 1/10...\r",
      "KNN 2/10...\r",
      "KNN 3/10...\r",
      "KNN 4/10...\r",
      "KNN 5/10...\r",
      "KNN 6/10...\r",
      "KNN 7/10...\r",
      "KNN 8/10...\r",
      "KNN 9/10...\r",
      "KNN 10/10...\r"
     ]
    },
    {
     "name": "stderr",
     "output_type": "stream",
     "text": [
      "/usr/local/envs/py3env/lib/python3.5/site-packages/matplotlib/font_manager.py:1320: UserWarning: findfont: Font family ['sans-serif'] not found. Falling back to DejaVu Sans\n",
      "  (prop.get_family(), self.defaultFamily[fontext]))\n"
     ]
    },
    {
     "data": {
      "image/png": "[encoded data removed]",
      "text/plain": [
       "<matplotlib.figure.Figure at 0x7f68b4cea9e8>"
      ]
     },
     "metadata": {},
     "output_type": "display_data"
    }
   ],
   "source": [
    "knn_eval = pd.DataFrame(0, index=range(10), columns=['train', 'test']).astype(float)\n",
    "\n",
    "for i in range(10):\n",
    "  print('KNN {}/10...'.format(i+1), end='\\r')\n",
    "  subset_size = int(round(((i+1)*X_train.shape[0]/10)))\n",
    "  [knn_eval.values[i,0],knn_eval.values[i,1]] = knn(X_train[:subset_size,:], y_train[:subset_size], X_test, y_test)\n",
    "  \n",
    "show_results(knn_eval['train'], knn_eval['test'])"
   ]
  },
  {
   "cell_type": "markdown",
   "metadata": {},
   "source": [
    "## 2.3 Support Vector Machine"
   ]
  },
  {
   "cell_type": "code",
   "execution_count": 12,
   "metadata": {},
   "outputs": [],
   "source": [
    "from sklearn.svm import SVC\n",
    "\n",
    "def svm(X_train, y_train, X_test, y_test):\n",
    "  classifier = SVC(kernel = 'rbf')\n",
    "  classifier.fit(X_train, y_train)\n",
    "  y_test_pred = classifier.predict(X_test)\n",
    "  y_train_pred = classifier.predict(X_train)\n",
    "  return accuracy_score(y_train_pred, y_train), accuracy_score(y_test_pred, y_test)"
   ]
  },
  {
   "cell_type": "code",
   "execution_count": 13,
   "metadata": {},
   "outputs": [
    {
     "name": "stdout",
     "output_type": "stream",
     "text": [
      "SVM 1/10...\r",
      "SVM 2/10...\r",
      "SVM 3/10...\r",
      "SVM 4/10...\r",
      "SVM 5/10...\r",
      "SVM 6/10...\r",
      "SVM 7/10...\r",
      "SVM 8/10...\r",
      "SVM 9/10...\r",
      "SVM 10/10...\r"
     ]
    },
    {
     "name": "stderr",
     "output_type": "stream",
     "text": [
      "/usr/local/envs/py3env/lib/python3.5/site-packages/matplotlib/font_manager.py:1320: UserWarning: findfont: Font family ['sans-serif'] not found. Falling back to DejaVu Sans\n",
      "  (prop.get_family(), self.defaultFamily[fontext]))\n"
     ]
    },
    {
     "data": {
      "image/png": "[encoded data removed]",
      "text/plain": [
       "<matplotlib.figure.Figure at 0x7f68b4cb4278>"
      ]
     },
     "metadata": {},
     "output_type": "display_data"
    }
   ],
   "source": [
    "svm_eval = pd.DataFrame(0, index=range(10), columns=['train', 'test']).astype(float)\n",
    "\n",
    "for i in range(10):\n",
    "  print('SVM {}/10...'.format(i+1), end='\\r')\n",
    "  subset_size = int(round(((i+1)*X_train.shape[0]/10)))\n",
    "  [svm_eval.values[i,0],svm_eval.values[i,1]] = svm(X_train[:subset_size,:], y_train[:subset_size], X_test, y_test)\n",
    "  \n",
    "show_results(svm_eval['train'], svm_eval['test'])"
   ]
  },
  {
   "cell_type": "markdown",
   "metadata": {},
   "source": [
    "## 2.4 Naives Bayes"
   ]
  },
  {
   "cell_type": "code",
   "execution_count": 14,
   "metadata": {},
   "outputs": [],
   "source": [
    "from sklearn.naive_bayes import GaussianNB\n",
    "  \n",
    "def naive_bayes(X_train, y_train, X_test, y_test):\n",
    "  classifier = GaussianNB()\n",
    "  classifier.fit(X_train, y_train)\n",
    "  y_test_pred = classifier.predict(X_test)\n",
    "  y_train_pred = classifier.predict(X_train)\n",
    "  return accuracy_score(y_train_pred, y_train), accuracy_score(y_test_pred, y_test)"
   ]
  },
  {
   "cell_type": "code",
   "execution_count": 15,
   "metadata": {},
   "outputs": [
    {
     "name": "stdout",
     "output_type": "stream",
     "text": [
      "Naives Bayes 1/10...\r",
      "Naives Bayes 2/10...\r",
      "Naives Bayes 3/10...\r",
      "Naives Bayes 4/10...\r",
      "Naives Bayes 5/10...\r",
      "Naives Bayes 6/10...\r",
      "Naives Bayes 7/10...\r",
      "Naives Bayes 8/10...\r",
      "Naives Bayes 9/10...\r",
      "Naives Bayes 10/10...\r"
     ]
    },
    {
     "name": "stderr",
     "output_type": "stream",
     "text": [
      "/usr/local/envs/py3env/lib/python3.5/site-packages/matplotlib/font_manager.py:1320: UserWarning: findfont: Font family ['sans-serif'] not found. Falling back to DejaVu Sans\n",
      "  (prop.get_family(), self.defaultFamily[fontext]))\n"
     ]
    },
    {
     "data": {
      "image/png": "[encoded data removed]",
      "text/plain": [
       "<matplotlib.figure.Figure at 0x7f68b4c4af60>"
      ]
     },
     "metadata": {},
     "output_type": "display_data"
    }
   ],
   "source": [
    "nb_eval = pd.DataFrame(0, index=range(10), columns=['train', 'test']).astype(float)\n",
    "\n",
    "for i in range(10):\n",
    "  print('Naives Bayes {}/10...'.format(i+1), end='\\r')\n",
    "  subset_size = int(round(((i+1)*X_train.shape[0]/10)))\n",
    "  [nb_eval.values[i,0],nb_eval.values[i,1]] = svm(X_train[:subset_size,:], y_train[:subset_size], X_test, y_test)\n",
    "  \n",
    "show_results(nb_eval['train'], nb_eval['test'])"
   ]
  },
  {
   "cell_type": "markdown",
   "metadata": {},
   "source": [
    "## 2.5 Random Forest Classification"
   ]
  },
  {
   "cell_type": "code",
   "execution_count": 16,
   "metadata": {},
   "outputs": [],
   "source": [
    "from sklearn.ensemble import RandomForestClassifier\n",
    "\n",
    "def random_forest(X_train,y_train,X_test,y_test):\n",
    "  classifier = RandomForestClassifier(n_estimators = 100, criterion = 'entropy')\n",
    "  classifier.fit(X_train, y_train)\n",
    "  y_test_pred = classifier.predict(X_test)\n",
    "  y_train_pred = classifier.predict(X_train)\n",
    "  return accuracy_score(y_train_pred, y_train), accuracy_score(y_test_pred, y_test)"
   ]
  },
  {
   "cell_type": "code",
   "execution_count": 17,
   "metadata": {},
   "outputs": [
    {
     "name": "stdout",
     "output_type": "stream",
     "text": [
      "Random Forest 10/10...\r"
     ]
    },
    {
     "name": "stderr",
     "output_type": "stream",
     "text": [
      "/usr/local/envs/py3env/lib/python3.5/site-packages/matplotlib/font_manager.py:1320: UserWarning: findfont: Font family ['sans-serif'] not found. Falling back to DejaVu Sans\n",
      "  (prop.get_family(), self.defaultFamily[fontext]))\n"
     ]
    },
    {
     "data": {
      "image/png": "[encoded data removed]",
      "text/plain": [
       "<matplotlib.figure.Figure at 0x7f68b3f0f630>"
      ]
     },
     "metadata": {},
     "output_type": "display_data"
    }
   ],
   "source": [
    "rf_eval = pd.DataFrame(0, index=range(10), columns=['train', 'test']).astype(float)\n",
    "\n",
    "for i in range(10):\n",
    "  print('Random Forest {}/10...'.format(i+1), end='\\r')\n",
    "  subset_size = int(round(((i+1)*X_train.shape[0]/10)))\n",
    "  [rf_eval.values[i,0],rf_eval.values[i,1]] = random_forest(X_train[:subset_size,:], y_train[:subset_size], X_test, y_test)\n",
    "  \n",
    "show_results(rf_eval['train'], rf_eval['test'])"
   ]
  },
  {
   "cell_type": "markdown",
   "metadata": {},
   "source": [
    "## 2.6 Deep Neural Network"
   ]
  },
  {
   "cell_type": "code",
   "execution_count": 46,
   "metadata": {},
   "outputs": [],
   "source": [
    "import keras\n",
    "from keras.models import Sequential\n",
    "from keras.layers import Dense\n",
    "from time import time\n",
    "from keras.callbacks import TensorBoard\n",
    "from google.datalab.ml import TensorBoard as tb # if running from a Google Cloud Platform Datalab\n",
    "\n",
    "def dnn(X_train,y_train,X_test,y_test):\n",
    "  tensorboard = TensorBoard(log_dir='logs/bs3e100')\n",
    "  classifier = Sequential()\n",
    "  classifier.add(Dense(input_dim = 25, units = 50, activation = 'relu', kernel_initializer = 'uniform'))\n",
    "  classifier.add(Dense(units = 25, activation = 'relu', kernel_initializer = 'uniform'))\n",
    "  classifier.add(Dense(units = 10, activation = 'relu', kernel_initializer = 'uniform'))\n",
    "  classifier.add(Dense(units = 1, activation = 'sigmoid', kernel_initializer = 'uniform'))\n",
    "  classifier.compile(optimizer = 'adam', loss = 'binary_crossentropy', metrics = ['accuracy'])\n",
    "  classifier.fit(X_train,y_train, batch_size = 3, epochs = 100, callbacks=[tensorboard])\n",
    "  y_test_pred = classifier.predict(X_test)\n",
    "  y_test_pred = (y_test_pred > 0.5)\n",
    "  y_train_pred = classifier.predict(X_train)\n",
    "  y_train_pred = (y_train_pred > 0.5)\n",
    "  return accuracy_score(y_train_pred, y_train), accuracy_score(y_test_pred, y_test)"
   ]
  },
  {
   "cell_type": "code",
   "execution_count": 47,
   "metadata": {},
   "outputs": [
    {
     "name": "stdout",
     "output_type": "stream",
     "text": [
      "Epoch 1/100\n",
      "460/460 [==============================] - 1s 1ms/step - loss: 0.6334 - acc: 0.6935\n",
      "Epoch 2/100\n",
      "460/460 [==============================] - 0s 533us/step - loss: 0.5003 - acc: 0.7891\n",
      "Epoch 3/100\n",
      "460/460 [==============================] - 0s 557us/step - loss: 0.4658 - acc: 0.8196\n",
      "Epoch 4/100\n",
      "460/460 [==============================] - 0s 542us/step - loss: 0.4436 - acc: 0.8283\n",
      "Epoch 5/100\n",
      "460/460 [==============================] - 0s 562us/step - loss: 0.4402 - acc: 0.8283\n",
      "Epoch 6/100\n",
      "460/460 [==============================] - 0s 603us/step - loss: 0.4369 - acc: 0.8304\n",
      "Epoch 7/100\n",
      "460/460 [==============================] - 0s 617us/step - loss: 0.4350 - acc: 0.8261\n",
      "Epoch 8/100\n",
      "460/460 [==============================] - 0s 599us/step - loss: 0.4339 - acc: 0.8261\n",
      "Epoch 9/100\n",
      "460/460 [==============================] - 0s 694us/step - loss: 0.4273 - acc: 0.8326\n",
      "Epoch 10/100\n",
      "460/460 [==============================] - 0s 834us/step - loss: 0.4246 - acc: 0.8326\n",
      "Epoch 11/100\n",
      "460/460 [==============================] - 0s 617us/step - loss: 0.4210 - acc: 0.8413\n",
      "Epoch 12/100\n",
      "460/460 [==============================] - 0s 603us/step - loss: 0.4199 - acc: 0.8457\n",
      "Epoch 13/100\n",
      "460/460 [==============================] - 1s 1ms/step - loss: 0.4160 - acc: 0.8391\n",
      "Epoch 14/100\n",
      "460/460 [==============================] - 0s 637us/step - loss: 0.4154 - acc: 0.8478\n",
      "Epoch 15/100\n",
      "460/460 [==============================] - 0s 627us/step - loss: 0.4127 - acc: 0.8413\n",
      "Epoch 16/100\n",
      "460/460 [==============================] - 0s 638us/step - loss: 0.4103 - acc: 0.8457\n",
      "Epoch 17/100\n",
      "460/460 [==============================] - 0s 610us/step - loss: 0.4129 - acc: 0.8391\n",
      "Epoch 18/100\n",
      "460/460 [==============================] - 0s 602us/step - loss: 0.4088 - acc: 0.8435\n",
      "Epoch 19/100\n",
      "460/460 [==============================] - 0s 634us/step - loss: 0.4015 - acc: 0.8522\n",
      "Epoch 20/100\n",
      "460/460 [==============================] - 0s 589us/step - loss: 0.4012 - acc: 0.8391\n",
      "Epoch 21/100\n",
      "460/460 [==============================] - 0s 603us/step - loss: 0.4001 - acc: 0.8500\n",
      "Epoch 22/100\n",
      "460/460 [==============================] - 0s 711us/step - loss: 0.3962 - acc: 0.8500\n",
      "Epoch 23/100\n",
      "460/460 [==============================] - 0s 704us/step - loss: 0.3949 - acc: 0.8543\n",
      "Epoch 24/100\n",
      "460/460 [==============================] - 0s 682us/step - loss: 0.3930 - acc: 0.8500\n",
      "Epoch 25/100\n",
      "460/460 [==============================] - 0s 828us/step - loss: 0.3946 - acc: 0.8478\n",
      "Epoch 26/100\n",
      "460/460 [==============================] - 0s 671us/step - loss: 0.3856 - acc: 0.8565\n",
      "Epoch 27/100\n",
      "460/460 [==============================] - 0s 607us/step - loss: 0.3864 - acc: 0.8565\n",
      "Epoch 28/100\n",
      "460/460 [==============================] - 0s 630us/step - loss: 0.3834 - acc: 0.8609\n",
      "Epoch 29/100\n",
      "460/460 [==============================] - 0s 616us/step - loss: 0.3849 - acc: 0.8543\n",
      "Epoch 30/100\n",
      "460/460 [==============================] - 0s 609us/step - loss: 0.3759 - acc: 0.8609\n",
      "Epoch 31/100\n",
      "460/460 [==============================] - 0s 582us/step - loss: 0.3722 - acc: 0.8587\n",
      "Epoch 32/100\n",
      "460/460 [==============================] - 0s 709us/step - loss: 0.3735 - acc: 0.8587\n",
      "Epoch 33/100\n",
      "460/460 [==============================] - 0s 613us/step - loss: 0.3669 - acc: 0.8609\n",
      "Epoch 34/100\n",
      "460/460 [==============================] - 0s 554us/step - loss: 0.3659 - acc: 0.8587\n",
      "Epoch 35/100\n",
      "460/460 [==============================] - 0s 552us/step - loss: 0.3694 - acc: 0.8587\n",
      "Epoch 36/100\n",
      "460/460 [==============================] - 0s 634us/step - loss: 0.3644 - acc: 0.8674\n",
      "Epoch 37/100\n",
      "460/460 [==============================] - 0s 603us/step - loss: 0.3578 - acc: 0.8565\n",
      "Epoch 38/100\n",
      "460/460 [==============================] - 0s 634us/step - loss: 0.3565 - acc: 0.8609\n",
      "Epoch 39/100\n",
      "460/460 [==============================] - 0s 647us/step - loss: 0.3647 - acc: 0.8674\n",
      "Epoch 40/100\n",
      "460/460 [==============================] - 0s 674us/step - loss: 0.3542 - acc: 0.8630\n",
      "Epoch 41/100\n",
      "460/460 [==============================] - 0s 558us/step - loss: 0.3570 - acc: 0.8652\n",
      "Epoch 42/100\n",
      "460/460 [==============================] - 0s 843us/step - loss: 0.3456 - acc: 0.8587\n",
      "Epoch 43/100\n",
      "460/460 [==============================] - 0s 687us/step - loss: 0.3459 - acc: 0.8652\n",
      "Epoch 44/100\n",
      "460/460 [==============================] - 0s 622us/step - loss: 0.3431 - acc: 0.8739\n",
      "Epoch 45/100\n",
      "460/460 [==============================] - 0s 553us/step - loss: 0.3369 - acc: 0.8761\n",
      "Epoch 46/100\n",
      "460/460 [==============================] - 0s 548us/step - loss: 0.3431 - acc: 0.8739\n",
      "Epoch 47/100\n",
      "460/460 [==============================] - 0s 633us/step - loss: 0.3402 - acc: 0.8652\n",
      "Epoch 48/100\n",
      "460/460 [==============================] - 0s 557us/step - loss: 0.3340 - acc: 0.8761\n",
      "Epoch 49/100\n",
      "460/460 [==============================] - 0s 831us/step - loss: 0.3334 - acc: 0.8696\n",
      "Epoch 50/100\n",
      "460/460 [==============================] - 0s 596us/step - loss: 0.3335 - acc: 0.8717\n",
      "Epoch 51/100\n",
      "460/460 [==============================] - 0s 616us/step - loss: 0.3313 - acc: 0.8761\n",
      "Epoch 52/100\n",
      "460/460 [==============================] - 0s 595us/step - loss: 0.3282 - acc: 0.8826\n",
      "Epoch 53/100\n",
      "460/460 [==============================] - 0s 645us/step - loss: 0.3196 - acc: 0.8826\n",
      "Epoch 54/100\n",
      "460/460 [==============================] - 0s 591us/step - loss: 0.3198 - acc: 0.8761\n",
      "Epoch 55/100\n",
      "460/460 [==============================] - 0s 592us/step - loss: 0.3247 - acc: 0.8783\n",
      "Epoch 56/100\n",
      "460/460 [==============================] - 0s 598us/step - loss: 0.3217 - acc: 0.8891\n",
      "Epoch 57/100\n",
      "460/460 [==============================] - 0s 642us/step - loss: 0.3228 - acc: 0.8826\n",
      "Epoch 58/100\n",
      "460/460 [==============================] - 0s 616us/step - loss: 0.3249 - acc: 0.8674\n",
      "Epoch 59/100\n",
      "460/460 [==============================] - 0s 914us/step - loss: 0.3290 - acc: 0.8761\n",
      "Epoch 60/100\n",
      "460/460 [==============================] - 0s 603us/step - loss: 0.3187 - acc: 0.8891\n",
      "Epoch 61/100\n",
      "460/460 [==============================] - 0s 572us/step - loss: 0.3087 - acc: 0.8848\n",
      "Epoch 62/100\n",
      "460/460 [==============================] - 0s 600us/step - loss: 0.3107 - acc: 0.8870\n",
      "Epoch 63/100\n",
      "460/460 [==============================] - 0s 599us/step - loss: 0.3092 - acc: 0.8848\n",
      "Epoch 64/100\n",
      "460/460 [==============================] - 0s 616us/step - loss: 0.3068 - acc: 0.8848\n",
      "Epoch 65/100\n",
      "460/460 [==============================] - 0s 594us/step - loss: 0.3049 - acc: 0.8913\n",
      "Epoch 66/100\n",
      "460/460 [==============================] - 0s 608us/step - loss: 0.3116 - acc: 0.8826\n",
      "Epoch 67/100\n",
      "460/460 [==============================] - 0s 600us/step - loss: 0.2994 - acc: 0.8891\n",
      "Epoch 68/100\n",
      "460/460 [==============================] - 0s 573us/step - loss: 0.2949 - acc: 0.8891\n",
      "Epoch 69/100\n",
      "460/460 [==============================] - 0s 531us/step - loss: 0.3037 - acc: 0.8913\n",
      "Epoch 70/100\n",
      "460/460 [==============================] - 0s 591us/step - loss: 0.2974 - acc: 0.8848 0s - loss: 0.2955 - acc: 0.8\n",
      "Epoch 71/100\n",
      "460/460 [==============================] - 0s 533us/step - loss: 0.2983 - acc: 0.8891\n",
      "Epoch 72/100\n",
      "460/460 [==============================] - 0s 592us/step - loss: 0.2927 - acc: 0.8935\n",
      "Epoch 73/100\n",
      "460/460 [==============================] - 0s 531us/step - loss: 0.2954 - acc: 0.8935\n",
      "Epoch 74/100\n",
      "460/460 [==============================] - 0s 541us/step - loss: 0.2932 - acc: 0.8891\n",
      "Epoch 75/100\n",
      "460/460 [==============================] - 0s 587us/step - loss: 0.2943 - acc: 0.8957\n",
      "Epoch 76/100\n",
      "460/460 [==============================] - 0s 536us/step - loss: 0.2834 - acc: 0.9000\n",
      "Epoch 77/100\n",
      "460/460 [==============================] - 0s 593us/step - loss: 0.2895 - acc: 0.8978\n",
      "Epoch 78/100\n",
      "460/460 [==============================] - 0s 545us/step - loss: 0.2814 - acc: 0.8978\n",
      "Epoch 79/100\n",
      "460/460 [==============================] - 0s 600us/step - loss: 0.2838 - acc: 0.8891\n",
      "Epoch 80/100\n",
      "460/460 [==============================] - 0s 644us/step - loss: 0.2789 - acc: 0.8978\n",
      "Epoch 81/100\n",
      "460/460 [==============================] - 0s 627us/step - loss: 0.2840 - acc: 0.8957\n",
      "Epoch 82/100\n",
      "460/460 [==============================] - 0s 556us/step - loss: 0.2741 - acc: 0.9043\n",
      "Epoch 83/100\n"
     ]
    },
    {
     "name": "stdout",
     "output_type": "stream",
     "text": [
      "460/460 [==============================] - 0s 578us/step - loss: 0.2846 - acc: 0.8891\n",
      "Epoch 84/100\n",
      "460/460 [==============================] - 0s 542us/step - loss: 0.3210 - acc: 0.8717\n",
      "Epoch 85/100\n",
      "460/460 [==============================] - 0s 570us/step - loss: 0.2792 - acc: 0.8957\n",
      "Epoch 86/100\n",
      "460/460 [==============================] - 0s 549us/step - loss: 0.2712 - acc: 0.9109\n",
      "Epoch 87/100\n",
      "460/460 [==============================] - 0s 569us/step - loss: 0.2712 - acc: 0.9022\n",
      "Epoch 88/100\n",
      "460/460 [==============================] - 0s 548us/step - loss: 0.2655 - acc: 0.9109\n",
      "Epoch 89/100\n",
      "460/460 [==============================] - 0s 601us/step - loss: 0.2641 - acc: 0.9087\n",
      "Epoch 90/100\n",
      "460/460 [==============================] - 0s 585us/step - loss: 0.2660 - acc: 0.9065\n",
      "Epoch 91/100\n",
      "460/460 [==============================] - 0s 599us/step - loss: 0.2745 - acc: 0.8978\n",
      "Epoch 92/100\n",
      "460/460 [==============================] - 0s 651us/step - loss: 0.2684 - acc: 0.9130\n",
      "Epoch 93/100\n",
      "460/460 [==============================] - 0s 644us/step - loss: 0.2647 - acc: 0.9065\n",
      "Epoch 94/100\n",
      "460/460 [==============================] - 0s 586us/step - loss: 0.2636 - acc: 0.9043 0s - loss: 0.2463 - acc: 0.\n",
      "Epoch 95/100\n",
      "460/460 [==============================] - 0s 542us/step - loss: 0.2642 - acc: 0.9043\n",
      "Epoch 96/100\n",
      "460/460 [==============================] - 0s 551us/step - loss: 0.2687 - acc: 0.9000\n",
      "Epoch 97/100\n",
      "460/460 [==============================] - 0s 606us/step - loss: 0.2617 - acc: 0.9043\n",
      "Epoch 98/100\n",
      "460/460 [==============================] - 0s 555us/step - loss: 0.2627 - acc: 0.9043\n",
      "Epoch 99/100\n",
      "460/460 [==============================] - 0s 544us/step - loss: 0.2537 - acc: 0.9087\n",
      "Epoch 100/100\n",
      "460/460 [==============================] - 0s 606us/step - loss: 0.2569 - acc: 0.9000\n"
     ]
    },
    {
     "name": "stderr",
     "output_type": "stream",
     "text": [
      "/usr/local/envs/py3env/lib/python3.5/site-packages/matplotlib/font_manager.py:1320: UserWarning: findfont: Font family ['sans-serif'] not found. Falling back to DejaVu Sans\n",
      "  (prop.get_family(), self.defaultFamily[fontext]))\n"
     ]
    },
    {
     "data": {
      "image/png": "[encoded data removed]",
      "text/plain": [
       "<matplotlib.figure.Figure at 0x7f6894f7ccc0>"
      ]
     },
     "metadata": {},
     "output_type": "display_data"
    }
   ],
   "source": [
    "dnn_eval = pd.DataFrame(0, index=range(1), columns=['train', 'test']).astype(float)\n",
    "\n",
    "[dnn_eval.values[0,0],dnn_eval.values[0,1]] = dnn(X_train, y_train, X_test, y_test)\n",
    "  \n",
    "show_results(dnn_eval['train'], dnn_eval['test'])"
   ]
  },
  {
   "cell_type": "code",
   "execution_count": 27,
   "metadata": {},
   "outputs": [
    {
     "data": {
      "text/html": [
       "<p>TensorBoard was started successfully with pid 5510. Click <a href=\"/_proxy/51155/\" target=\"_blank\">here</a> to access it.</p>"
      ]
     },
     "metadata": {},
     "output_type": "display_data"
    },
    {
     "data": {
      "text/plain": [
       "5510"
      ]
     },
     "execution_count": 27,
     "metadata": {},
     "output_type": "execute_result"
    }
   ],
   "source": [
    "tb.start('./logs') # Only start if it has not been started yet"
   ]
  },
  {
   "cell_type": "markdown",
   "metadata": {},
   "source": [
    "# Conclusion"
   ]
  },
  {
   "cell_type": "code",
   "execution_count": 48,
   "metadata": {},
   "outputs": [
    {
     "name": "stdout",
     "output_type": "stream",
     "text": [
      "      train      test\n",
      "0  0.804348  0.714286\n",
      "1  0.815217  0.766234\n",
      "2  0.804348  0.740260\n",
      "3  0.826087  0.753247\n",
      "4  0.821739  0.759740\n",
      "5  0.826087  0.766234\n",
      "6  0.829193  0.766234\n",
      "7  0.834239  0.766234\n",
      "8  0.828502  0.766234\n",
      "9  0.826087  0.766234\n",
      "      train      test\n",
      "0  0.760870  0.746753\n",
      "1  0.836957  0.766234\n",
      "2  0.818841  0.746753\n",
      "3  0.815217  0.759740\n",
      "4  0.808696  0.753247\n",
      "5  0.822464  0.759740\n",
      "6  0.822981  0.772727\n",
      "7  0.831522  0.766234\n",
      "8  0.828502  0.772727\n",
      "9  0.823913  0.772727\n",
      "      train      test\n",
      "0  0.782609  0.766234\n",
      "1  0.815217  0.766234\n",
      "2  0.811594  0.766234\n",
      "3  0.826087  0.766234\n",
      "4  0.817391  0.766234\n",
      "5  0.829710  0.766234\n",
      "6  0.832298  0.766234\n",
      "7  0.836957  0.766234\n",
      "8  0.833333  0.766234\n",
      "9  0.830435  0.766234\n",
      "   train      test\n",
      "0    1.0  0.649351\n",
      "1    1.0  0.688312\n",
      "2    1.0  0.707792\n",
      "3    1.0  0.733766\n",
      "4    1.0  0.720779\n",
      "5    1.0  0.753247\n",
      "6    1.0  0.759740\n",
      "7    1.0  0.759740\n",
      "8    1.0  0.753247\n",
      "9    1.0  0.753247\n",
      "     train      test\n",
      "0  0.91087  0.733766\n"
     ]
    }
   ],
   "source": [
    "print(lr_eval)\n",
    "print(knn_eval)\n",
    "print(svm_eval)\n",
    "print(rf_eval)\n",
    "print(dnn_eval)"
   ]
  }
 ],
 "metadata": {
  "kernelspec": {
   "display_name": "Python 3",
   "language": "python",
   "name": "python3"
  },
  "language_info": {
   "codemirror_mode": {
    "name": "ipython",
    "version": 3
   },
   "file_extension": ".py",
   "mimetype": "text/x-python",
   "name": "python",
   "nbconvert_exporter": "python",
   "pygments_lexer": "ipython3",
   "version": "3.5.6"
  }
 },
 "nbformat": 4,
 "nbformat_minor": 2
}
