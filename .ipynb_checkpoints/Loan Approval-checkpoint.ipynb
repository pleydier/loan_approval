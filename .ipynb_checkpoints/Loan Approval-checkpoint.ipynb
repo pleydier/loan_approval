{
 "cells": [
  {
   "cell_type": "markdown",
   "metadata": {},
   "source": [
    "# Loan Approval\n",
    "Will my loan get approved?\n",
    "We will use several machine learning models in order to predict the approval of a loan demand, depending on several variables."
   ]
  },
  {
   "cell_type": "markdown",
   "metadata": {},
   "source": [
    "The dataset is from Analytics Vidhya and is available at https://datahack.analyticsvidhya.com/contest/practice-problem-loan-prediction-iii/"
   ]
  },
  {
   "cell_type": "markdown",
   "metadata": {},
   "source": [
    "First, if we're running this code on a new server, we need to make sure that Keras and Tensorboard are installed since we use these libraries for the Deep Neural Network model."
   ]
  },
  {
   "cell_type": "code",
   "execution_count": null,
   "metadata": {},
   "outputs": [],
   "source": [
    "!pip3 install keras\n",
    "!pip3 install tensorboard"
   ]
  },
  {
   "cell_type": "markdown",
   "metadata": {},
   "source": [
    "# 1. Data Preprocessing\n",
    "For the first part of the Notebook, we will explore the dataset from Analytics Vidhya and prepare it for exploitation."
   ]
  },
  {
   "cell_type": "markdown",
   "metadata": {},
   "source": [
    "The goals of the data preprocessing are to:\n",
    "- Import the dataset\n",
    "- Select and clean the more relevant features\n",
    "- Create variables ready to be exploited by our Machine Learning models"
   ]
  },
  {
   "cell_type": "markdown",
   "metadata": {},
   "source": [
    "## 1.1 Import the dataset"
   ]
  },
  {
   "cell_type": "markdown",
   "metadata": {},
   "source": [
    "Before preprocessing the data, we need to import the dataset within the Python kernel. We will then exclude the first column, the row id, which will not be relevant for our problem. Finally, we can reorder the columns to fit our needs better, and have a look at the dataset."
   ]
  },
  {
   "cell_type": "code",
   "execution_count": 37,
   "metadata": {},
   "outputs": [
    {
     "data": {
      "text/html": [
       "<div>\n",
       "<style scoped>\n",
       "    .dataframe tbody tr th:only-of-type {\n",
       "        vertical-align: middle;\n",
       "    }\n",
       "\n",
       "    .dataframe tbody tr th {\n",
       "        vertical-align: top;\n",
       "    }\n",
       "\n",
       "    .dataframe thead th {\n",
       "        text-align: right;\n",
       "    }\n",
       "</style>\n",
       "<table border=\"1\" class=\"dataframe\">\n",
       "  <thead>\n",
       "    <tr style=\"text-align: right;\">\n",
       "      <th></th>\n",
       "      <th>Gender</th>\n",
       "      <th>Married</th>\n",
       "      <th>Education</th>\n",
       "      <th>Self_Employed</th>\n",
       "      <th>Property_Area</th>\n",
       "      <th>Dependents</th>\n",
       "      <th>Credit_History</th>\n",
       "      <th>ApplicantIncome</th>\n",
       "      <th>CoapplicantIncome</th>\n",
       "      <th>LoanAmount</th>\n",
       "      <th>Loan_Amount_Term</th>\n",
       "      <th>Loan_Status</th>\n",
       "    </tr>\n",
       "  </thead>\n",
       "  <tbody>\n",
       "    <tr>\n",
       "      <th>0</th>\n",
       "      <td>Male</td>\n",
       "      <td>No</td>\n",
       "      <td>Graduate</td>\n",
       "      <td>No</td>\n",
       "      <td>Urban</td>\n",
       "      <td>0</td>\n",
       "      <td>1.0</td>\n",
       "      <td>5849</td>\n",
       "      <td>0.0</td>\n",
       "      <td>NaN</td>\n",
       "      <td>360.0</td>\n",
       "      <td>Y</td>\n",
       "    </tr>\n",
       "    <tr>\n",
       "      <th>1</th>\n",
       "      <td>Male</td>\n",
       "      <td>Yes</td>\n",
       "      <td>Graduate</td>\n",
       "      <td>No</td>\n",
       "      <td>Rural</td>\n",
       "      <td>1</td>\n",
       "      <td>1.0</td>\n",
       "      <td>4583</td>\n",
       "      <td>1508.0</td>\n",
       "      <td>128.0</td>\n",
       "      <td>360.0</td>\n",
       "      <td>N</td>\n",
       "    </tr>\n",
       "    <tr>\n",
       "      <th>2</th>\n",
       "      <td>Male</td>\n",
       "      <td>Yes</td>\n",
       "      <td>Graduate</td>\n",
       "      <td>Yes</td>\n",
       "      <td>Urban</td>\n",
       "      <td>0</td>\n",
       "      <td>1.0</td>\n",
       "      <td>3000</td>\n",
       "      <td>0.0</td>\n",
       "      <td>66.0</td>\n",
       "      <td>360.0</td>\n",
       "      <td>Y</td>\n",
       "    </tr>\n",
       "    <tr>\n",
       "      <th>3</th>\n",
       "      <td>Male</td>\n",
       "      <td>Yes</td>\n",
       "      <td>Not Graduate</td>\n",
       "      <td>No</td>\n",
       "      <td>Urban</td>\n",
       "      <td>0</td>\n",
       "      <td>1.0</td>\n",
       "      <td>2583</td>\n",
       "      <td>2358.0</td>\n",
       "      <td>120.0</td>\n",
       "      <td>360.0</td>\n",
       "      <td>Y</td>\n",
       "    </tr>\n",
       "    <tr>\n",
       "      <th>4</th>\n",
       "      <td>Male</td>\n",
       "      <td>No</td>\n",
       "      <td>Graduate</td>\n",
       "      <td>No</td>\n",
       "      <td>Urban</td>\n",
       "      <td>0</td>\n",
       "      <td>1.0</td>\n",
       "      <td>6000</td>\n",
       "      <td>0.0</td>\n",
       "      <td>141.0</td>\n",
       "      <td>360.0</td>\n",
       "      <td>Y</td>\n",
       "    </tr>\n",
       "  </tbody>\n",
       "</table>\n",
       "</div>"
      ],
      "text/plain": [
       "  Gender Married     Education Self_Employed Property_Area Dependents  \\\n",
       "0   Male      No      Graduate            No         Urban          0   \n",
       "1   Male     Yes      Graduate            No         Rural          1   \n",
       "2   Male     Yes      Graduate           Yes         Urban          0   \n",
       "3   Male     Yes  Not Graduate            No         Urban          0   \n",
       "4   Male      No      Graduate            No         Urban          0   \n",
       "\n",
       "   Credit_History  ApplicantIncome  CoapplicantIncome  LoanAmount  \\\n",
       "0             1.0             5849                0.0         NaN   \n",
       "1             1.0             4583             1508.0       128.0   \n",
       "2             1.0             3000                0.0        66.0   \n",
       "3             1.0             2583             2358.0       120.0   \n",
       "4             1.0             6000                0.0       141.0   \n",
       "\n",
       "   Loan_Amount_Term Loan_Status  \n",
       "0             360.0           Y  \n",
       "1             360.0           N  \n",
       "2             360.0           Y  \n",
       "3             360.0           Y  \n",
       "4             360.0           Y  "
      ]
     },
     "execution_count": 37,
     "metadata": {},
     "output_type": "execute_result"
    }
   ],
   "source": [
    "import pandas as pd\n",
    "import numpy as np\n",
    "\n",
    "dataset = pd.read_csv('data/loan_approval_dataset.csv')\n",
    "dataset = dataset[['Gender','Married','Education','Self_Employed','Property_Area','Dependents','Credit_History',\n",
    "                  'ApplicantIncome','CoapplicantIncome','LoanAmount','Loan_Amount_Term','Loan_Status']]\n",
    "dataset.iloc[:5,:]"
   ]
  },
  {
   "cell_type": "markdown",
   "metadata": {},
   "source": [
    "## 1.2 Clean the features\n",
    "We can now split the columns between the independent variables and the dependent variable, and clean the data:\n",
    "- The fifth column 'Dependents' is treated as a string since it contains some values '3+'. We need to change these values to the int 3\n",
    "- There are missing data on some rows"
   ]
  },
  {
   "cell_type": "code",
   "execution_count": 38,
   "metadata": {},
   "outputs": [],
   "source": [
    "\n",
    "X = dataset.iloc[:,:-1].values\n",
    "y = dataset.iloc[:,-1:].values\n",
    "\n",
    "# Column 5 (Dependents) - 3+ => 3\n",
    "for i in range(X.shape[0]):\n",
    "  if(X[i,5] == '3+'):\n",
    "    X[i,5] = 3\n",
    "\n",
    "# Taking care of missing data\n",
    "from sklearn.preprocessing import Imputer\n",
    "imputer = Imputer(missing_values = 'NaN', strategy = 'mean', axis = 0)\n",
    "imputer = imputer.fit(X[:, 5:])\n",
    "X[:, 5:] = imputer.transform(X[:, 5:])"
   ]
  },
  {
   "cell_type": "markdown",
   "metadata": {},
   "source": [
    "## 1.3 Create exploitable variables\n",
    "Finally, we need to encore the categorical data, scale the numerical features and split the dataset between training and test sets."
   ]
  },
  {
   "cell_type": "code",
   "execution_count": 39,
   "metadata": {},
   "outputs": [],
   "source": [
    "# Encoding the categorical data\n",
    "from sklearn.preprocessing import LabelEncoder, OneHotEncoder\n",
    "X[:, :5] = np.apply_along_axis(LabelEncoder().fit_transform,axis=1, arr=X[:, :5].astype('str'))\n",
    "y = LabelEncoder().fit_transform(y.ravel())\n",
    "onehotencoder = OneHotEncoder(categorical_features = [0,1,2,3,4])\n",
    "X = onehotencoder.fit_transform(X).toarray()\n",
    "\n",
    "# Feature Scaling for numerical data\n",
    "from sklearn.preprocessing import StandardScaler\n",
    "sc = StandardScaler()\n",
    "X[:,20:] = sc.fit_transform(X[:,20:])\n",
    "\n",
    "# Splitting the dataset between training and test sets\n",
    "from sklearn.model_selection import train_test_split\n",
    "X_train, X_test, y_train, y_test = train_test_split(X, y, test_size = 0.25)"
   ]
  },
  {
   "cell_type": "markdown",
   "metadata": {},
   "source": [
    "# 2. Models"
   ]
  },
  {
   "cell_type": "markdown",
   "metadata": {},
   "source": [
    "## 2.0 Metrics and rule of thumb"
   ]
  },
  {
   "cell_type": "markdown",
   "metadata": {},
   "source": [
    "With this dataset, we are going to try to predict if the loan demand is approved or rejected. In order to compare the various models that we are going to build and test, we need a relevant metric."
   ]
  },
  {
   "cell_type": "markdown",
   "metadata": {},
   "source": [
    "Since the amount of approved (422) and rejected (192) loan demands are not approximately even, we are going to use the F1 Score:"
   ]
  },
  {
   "cell_type": "markdown",
   "metadata": {},
   "source": [
    "$$F1 Score = \\frac{2*(Recall * Precision)}{Recall + Precision}$$"
   ]
  },
  {
   "cell_type": "code",
   "execution_count": 43,
   "metadata": {},
   "outputs": [],
   "source": [
    "from sklearn.metrics import f1_score\n",
    "\n",
    "def evaluate(y_train_pred,y_train,y_test_pred,y_test):\n",
    "  return f1_score(y_train_pred, y_train), f1_score(y_test_pred,y_test)"
   ]
  },
  {
   "cell_type": "markdown",
   "metadata": {},
   "source": [
    "Furthermore, our rule of thumb for this problem will simply be to approve the loan for everyone."
   ]
  },
  {
   "cell_type": "code",
   "execution_count": 89,
   "metadata": {},
   "outputs": [
    {
     "name": "stdout",
     "output_type": "stream",
     "text": [
      "Rule of thumb f1 score: 0.8146718146718147\n"
     ]
    }
   ],
   "source": [
    "y_pred = pd.DataFrame(True,index=np.arange(dataset.shape[0]),columns=[['Loan_Status']])\n",
    "rule_of_thumb_f1_score = f1_score(y_pred,dataset[['Loan_Status']]=='Y')\n",
    "print('Rule of thumb f1 score: {}'.format(rule_of_thumb_f1_score))"
   ]
  },
  {
   "cell_type": "markdown",
   "metadata": {},
   "source": [
    "## 2.1 Logistic Regression"
   ]
  },
  {
   "cell_type": "code",
   "execution_count": 98,
   "metadata": {},
   "outputs": [],
   "source": [
    "from sklearn.linear_model import LogisticRegression\n",
    "import matplotlib.pyplot as plt\n",
    "\n",
    "def logistic_regression(X_train, y_train, X_test, y_test):\n",
    "  classifier = LogisticRegression()\n",
    "  classifier.fit(X_train, y_train)\n",
    "  y_train_pred = classifier.predict(X_train)\n",
    "  y_test_pred = classifier.predict(X_test)\n",
    "  return evaluate(y_train_pred,y_train,y_test_pred,y_test)\n",
    "\n",
    "def show_results(training_eval, test_eval):\n",
    "  plt.gca().set_ylim([0.8,1])\n",
    "  plt.plot(training_eval, label='Training F1 Score')\n",
    "  plt.plot(test_eval, label='Test F1 Score')\n",
    "  plt.legend()\n",
    "  plt.xlabel('Training set size')\n",
    "  plt.ylabel('F1 Score')\n",
    "  plt.show()"
   ]
  },
  {
   "cell_type": "code",
   "execution_count": 99,
   "metadata": {},
   "outputs": [
    {
     "name": "stdout",
     "output_type": "stream",
     "text": [
      "Logistic Regression 1/10...\r",
      "Logistic Regression 2/10...\r",
      "Logistic Regression 3/10...\r",
      "Logistic Regression 4/10...\r",
      "Logistic Regression 5/10...\r",
      "Logistic Regression 6/10...\r",
      "Logistic Regression 7/10...\r",
      "Logistic Regression 8/10...\r",
      "Logistic Regression 9/10...\r",
      "Logistic Regression 10/10...\r"
     ]
    },
    {
     "name": "stderr",
     "output_type": "stream",
     "text": [
      "/usr/local/envs/py3env/lib/python3.5/site-packages/matplotlib/font_manager.py:1320: UserWarning: findfont: Font family ['sans-serif'] not found. Falling back to DejaVu Sans\n",
      "  (prop.get_family(), self.defaultFamily[fontext]))\n"
     ]
    },
    {
     "data": {
      "image/png": "[encoded data removed]",
      "text/plain": [
       "<matplotlib.figure.Figure at 0x7f0c204ca470>"
      ]
     },
     "metadata": {},
     "output_type": "display_data"
    }
   ],
   "source": [
    "lr_eval = pd.DataFrame(0, index=range(10), columns=['train', 'test']).astype(float)\n",
    "\n",
    "for i in range(10):\n",
    "  print('Logistic Regression {}/10...'.format(i+1), end='\\r')\n",
    "  subset_size = int(round(((i+1)*X_train.shape[0]/10)))\n",
    "  [lr_eval.values[i,0],lr_eval.values[i,1]] = logistic_regression(X_train[:subset_size,:], y_train[:subset_size], X_test, y_test)\n",
    "  \n",
    "show_results(lr_eval['train'], lr_eval['test'])"
   ]
  },
  {
   "cell_type": "markdown",
   "metadata": {},
   "source": [
    "## 2.2 K-Nearest Neighbors"
   ]
  },
  {
   "cell_type": "code",
   "execution_count": 92,
   "metadata": {},
   "outputs": [],
   "source": [
    "from sklearn.neighbors import KNeighborsClassifier\n",
    "def knn(X_train,y_train,X_test,y_test):\n",
    "  classifier = KNeighborsClassifier(n_neighbors = 10, metric = 'minkowski', p = 2)\n",
    "  classifier.fit(X_train, y_train)\n",
    "  y_train_pred = classifier.predict(X_train)\n",
    "  y_test_pred = classifier.predict(X_test)\n",
    "  return evaluate(y_train_pred,y_train,y_test_pred,y_test)"
   ]
  },
  {
   "cell_type": "code",
   "execution_count": 100,
   "metadata": {},
   "outputs": [
    {
     "name": "stdout",
     "output_type": "stream",
     "text": [
      "KNN 1/10...\r",
      "KNN 2/10...\r",
      "KNN 3/10...\r",
      "KNN 4/10...\r",
      "KNN 5/10...\r",
      "KNN 6/10...\r",
      "KNN 7/10...\r",
      "KNN 8/10...\r",
      "KNN 9/10...\r",
      "KNN 10/10...\r"
     ]
    },
    {
     "name": "stderr",
     "output_type": "stream",
     "text": [
      "/usr/local/envs/py3env/lib/python3.5/site-packages/matplotlib/font_manager.py:1320: UserWarning: findfont: Font family ['sans-serif'] not found. Falling back to DejaVu Sans\n",
      "  (prop.get_family(), self.defaultFamily[fontext]))\n"
     ]
    },
    {
     "data": {
      "image/png": "[encoded data removed]",
      "text/plain": [
       "<matplotlib.figure.Figure at 0x7f0c20494550>"
      ]
     },
     "metadata": {},
     "output_type": "display_data"
    }
   ],
   "source": [
    "knn_eval = pd.DataFrame(0, index=range(10), columns=['train', 'test']).astype(float)\n",
    "\n",
    "for i in range(10):\n",
    "  print('KNN {}/10...'.format(i+1), end='\\r')\n",
    "  subset_size = int(round(((i+1)*X_train.shape[0]/10)))\n",
    "  [knn_eval.values[i,0],knn_eval.values[i,1]] = knn(X_train[:subset_size,:], y_train[:subset_size], X_test, y_test)\n",
    "  \n",
    "show_results(knn_eval['train'], knn_eval['test'])"
   ]
  },
  {
   "cell_type": "markdown",
   "metadata": {},
   "source": [
    "## 2.3 Support Vector Machine"
   ]
  },
  {
   "cell_type": "code",
   "execution_count": 94,
   "metadata": {},
   "outputs": [],
   "source": [
    "from sklearn.svm import SVC\n",
    "\n",
    "def svm(X_train, y_train, X_test, y_test):\n",
    "  classifier = SVC(kernel = 'rbf')\n",
    "  classifier.fit(X_train, y_train)\n",
    "  y_test_pred = classifier.predict(X_test)\n",
    "  y_train_pred = classifier.predict(X_train)\n",
    "  return evaluate(y_train_pred,y_train,y_test_pred,y_test)"
   ]
  },
  {
   "cell_type": "code",
   "execution_count": 101,
   "metadata": {},
   "outputs": [
    {
     "name": "stdout",
     "output_type": "stream",
     "text": [
      "SVM 1/10...\r",
      "SVM 2/10...\r",
      "SVM 3/10...\r",
      "SVM 4/10...\r",
      "SVM 5/10...\r",
      "SVM 6/10...\r",
      "SVM 7/10...\r",
      "SVM 8/10...\r",
      "SVM 9/10...\r",
      "SVM 10/10...\r"
     ]
    },
    {
     "name": "stderr",
     "output_type": "stream",
     "text": [
      "/usr/local/envs/py3env/lib/python3.5/site-packages/matplotlib/font_manager.py:1320: UserWarning: findfont: Font family ['sans-serif'] not found. Falling back to DejaVu Sans\n",
      "  (prop.get_family(), self.defaultFamily[fontext]))\n"
     ]
    },
    {
     "data": {
      "image/png": "[encoded data removed]",
      "text/plain": [
       "<matplotlib.figure.Figure at 0x7f0c204538d0>"
      ]
     },
     "metadata": {},
     "output_type": "display_data"
    }
   ],
   "source": [
    "svm_eval = pd.DataFrame(0, index=range(10), columns=['train', 'test']).astype(float)\n",
    "\n",
    "for i in range(10):\n",
    "  print('SVM {}/10...'.format(i+1), end='\\r')\n",
    "  subset_size = int(round(((i+1)*X_train.shape[0]/10)))\n",
    "  [svm_eval.values[i,0],svm_eval.values[i,1]] = svm(X_train[:subset_size,:], y_train[:subset_size], X_test, y_test)\n",
    "  \n",
    "show_results(svm_eval['train'], svm_eval['test'])"
   ]
  },
  {
   "cell_type": "markdown",
   "metadata": {},
   "source": [
    "## 2.4 Naives Bayes"
   ]
  },
  {
   "cell_type": "code",
   "execution_count": 96,
   "metadata": {},
   "outputs": [],
   "source": [
    "from sklearn.naive_bayes import GaussianNB\n",
    "  \n",
    "def naive_bayes(X_train, y_train, X_test, y_test):\n",
    "  classifier = GaussianNB()\n",
    "  classifier.fit(X_train, y_train)\n",
    "  y_test_pred = classifier.predict(X_test)\n",
    "  y_train_pred = classifier.predict(X_train)\n",
    "  return evaluate(y_train_pred,y_train,y_test_pred,y_test)"
   ]
  },
  {
   "cell_type": "code",
   "execution_count": 102,
   "metadata": {},
   "outputs": [
    {
     "name": "stdout",
     "output_type": "stream",
     "text": [
      "Naives Bayes 1/10...\r",
      "Naives Bayes 2/10...\r",
      "Naives Bayes 3/10...\r",
      "Naives Bayes 4/10...\r",
      "Naives Bayes 5/10...\r",
      "Naives Bayes 6/10...\r",
      "Naives Bayes 7/10...\r",
      "Naives Bayes 8/10...\r",
      "Naives Bayes 9/10...\r",
      "Naives Bayes 10/10...\r"
     ]
    },
    {
     "name": "stderr",
     "output_type": "stream",
     "text": [
      "/usr/local/envs/py3env/lib/python3.5/site-packages/matplotlib/font_manager.py:1320: UserWarning: findfont: Font family ['sans-serif'] not found. Falling back to DejaVu Sans\n",
      "  (prop.get_family(), self.defaultFamily[fontext]))\n"
     ]
    },
    {
     "data": {
      "image/png": "[encoded data removed]",
      "text/plain": [
       "<matplotlib.figure.Figure at 0x7f0c204e60b8>"
      ]
     },
     "metadata": {},
     "output_type": "display_data"
    }
   ],
   "source": [
    "nb_eval = pd.DataFrame(0, index=range(10), columns=['train', 'test']).astype(float)\n",
    "\n",
    "for i in range(10):\n",
    "  print('Naives Bayes {}/10...'.format(i+1), end='\\r')\n",
    "  subset_size = int(round(((i+1)*X_train.shape[0]/10)))\n",
    "  [nb_eval.values[i,0],nb_eval.values[i,1]] = svm(X_train[:subset_size,:], y_train[:subset_size], X_test, y_test)\n",
    "  \n",
    "show_results(nb_eval['train'], nb_eval['test'])"
   ]
  },
  {
   "cell_type": "markdown",
   "metadata": {},
   "source": [
    "## 2.5 Random Forest Classification"
   ]
  },
  {
   "cell_type": "code",
   "execution_count": 103,
   "metadata": {},
   "outputs": [],
   "source": [
    "from sklearn.ensemble import RandomForestClassifier\n",
    "\n",
    "def random_forest(X_train,y_train,X_test,y_test):\n",
    "  classifier = RandomForestClassifier(n_estimators = 100, criterion = 'entropy')\n",
    "  classifier.fit(X_train, y_train)\n",
    "  y_test_pred = classifier.predict(X_test)\n",
    "  y_train_pred = classifier.predict(X_train)\n",
    "  return evaluate(y_train_pred,y_train,y_test_pred,y_test)"
   ]
  },
  {
   "cell_type": "code",
   "execution_count": 104,
   "metadata": {},
   "outputs": [
    {
     "name": "stdout",
     "output_type": "stream",
     "text": [
      "Random Forest 10/10...\r"
     ]
    },
    {
     "name": "stderr",
     "output_type": "stream",
     "text": [
      "/usr/local/envs/py3env/lib/python3.5/site-packages/matplotlib/font_manager.py:1320: UserWarning: findfont: Font family ['sans-serif'] not found. Falling back to DejaVu Sans\n",
      "  (prop.get_family(), self.defaultFamily[fontext]))\n"
     ]
    },
    {
     "data": {
      "image/png": "[encoded data removed]",
      "text/plain": [
       "<matplotlib.figure.Figure at 0x7f0c23206f98>"
      ]
     },
     "metadata": {},
     "output_type": "display_data"
    }
   ],
   "source": [
    "rf_eval = pd.DataFrame(0, index=range(10), columns=['train', 'test']).astype(float)\n",
    "\n",
    "for i in range(10):\n",
    "  print('Random Forest {}/10...'.format(i+1), end='\\r')\n",
    "  subset_size = int(round(((i+1)*X_train.shape[0]/10)))\n",
    "  [rf_eval.values[i,0],rf_eval.values[i,1]] = random_forest(X_train[:subset_size,:], y_train[:subset_size], X_test, y_test)\n",
    "  \n",
    "show_results(rf_eval['train'], rf_eval['test'])"
   ]
  },
  {
   "cell_type": "markdown",
   "metadata": {},
   "source": [
    "## 2.6 Deep Neural Network"
   ]
  },
  {
   "cell_type": "code",
   "execution_count": 118,
   "metadata": {},
   "outputs": [],
   "source": [
    "import keras\n",
    "from keras.models import Sequential\n",
    "from keras.layers import Dense\n",
    "from time import time\n",
    "from keras.callbacks import TensorBoard\n",
    "from google.datalab.ml import TensorBoard as tb # if running from a Google Cloud Platform Datalab\n",
    "\n",
    "def dnn(X_train,y_train,X_test,y_test):\n",
    "  tensorboard = TensorBoard(log_dir='logs/bs3e100')\n",
    "  classifier = Sequential()\n",
    "  classifier.add(Dense(input_dim = 25, units = 50, activation = 'relu', kernel_initializer = 'uniform'))\n",
    "  classifier.add(Dense(units = 25, activation = 'relu', kernel_initializer = 'uniform'))\n",
    "  classifier.add(Dense(units = 10, activation = 'relu', kernel_initializer = 'uniform'))\n",
    "  classifier.add(Dense(units = 1, activation = 'sigmoid', kernel_initializer = 'uniform'))\n",
    "  classifier.compile(optimizer = 'adam', loss = 'binary_crossentropy')\n",
    "  classifier.fit(X_train,y_train, batch_size = 3, epochs = 100, callbacks=[tensorboard], verbose=0)\n",
    "  y_test_pred = classifier.predict(X_test)\n",
    "  y_test_pred = (y_test_pred > 0.5)\n",
    "  y_train_pred = classifier.predict(X_train)\n",
    "  y_train_pred = (y_train_pred > 0.5)\n",
    "  return evaluate(y_train_pred,y_train,y_test_pred,y_test)"
   ]
  },
  {
   "cell_type": "code",
   "execution_count": 119,
   "metadata": {},
   "outputs": [
    {
     "name": "stderr",
     "output_type": "stream",
     "text": [
      "/usr/local/envs/py3env/lib/python3.5/site-packages/matplotlib/font_manager.py:1320: UserWarning: findfont: Font family ['sans-serif'] not found. Falling back to DejaVu Sans\n",
      "  (prop.get_family(), self.defaultFamily[fontext]))\n"
     ]
    },
    {
     "data": {
      "image/png": "[encoded data removed]",
      "text/plain": [
       "<matplotlib.figure.Figure at 0x7f0c1b090ef0>"
      ]
     },
     "metadata": {},
     "output_type": "display_data"
    }
   ],
   "source": [
    "dnn_eval = pd.DataFrame(0, index=range(1), columns=['train', 'test']).astype(float)\n",
    "\n",
    "[dnn_eval.values[0,0],dnn_eval.values[0,1]] = dnn(X_train, y_train, X_test, y_test)"
   ]
  },
  {
   "cell_type": "code",
   "execution_count": 27,
   "metadata": {},
   "outputs": [
    {
     "data": {
      "text/html": [
       "<p>TensorBoard was started successfully with pid 5510. Click <a href=\"/_proxy/51155/\" target=\"_blank\">here</a> to access it.</p>"
      ]
     },
     "metadata": {},
     "output_type": "display_data"
    },
    {
     "data": {
      "text/plain": [
       "5510"
      ]
     },
     "execution_count": 27,
     "metadata": {},
     "output_type": "execute_result"
    }
   ],
   "source": [
    "tb.start('./logs') # Only start if it has not been started yet"
   ]
  },
  {
   "cell_type": "markdown",
   "metadata": {},
   "source": [
    "# Conclusion"
   ]
  },
  {
   "cell_type": "code",
   "execution_count": 120,
   "metadata": {},
   "outputs": [
    {
     "name": "stdout",
     "output_type": "stream",
     "text": [
      "      train      test\n",
      "0  0.873239  0.753769\n",
      "1  0.861314  0.788732\n",
      "2  0.865385  0.835556\n",
      "3  0.891228  0.835556\n",
      "4  0.885714  0.825112\n",
      "5  0.875598  0.835556\n",
      "6  0.883065  0.839286\n",
      "7  0.890815  0.830357\n",
      "8  0.888199  0.839286\n",
      "9  0.888889  0.835556\n",
      "      train      test\n",
      "0  0.826667  0.766667\n",
      "1  0.855072  0.785047\n",
      "2  0.869565  0.812785\n",
      "3  0.891228  0.818182\n",
      "4  0.876791  0.812785\n",
      "5  0.867470  0.823529\n",
      "6  0.879032  0.834081\n",
      "7  0.890815  0.828829\n",
      "8  0.887172  0.828829\n",
      "9  0.891667  0.840183\n",
      "      train      test\n",
      "0  0.849315  0.813853\n",
      "1  0.857143  0.830357\n",
      "2  0.872038  0.835556\n",
      "3  0.891986  0.835556\n",
      "4  0.889518  0.835556\n",
      "5  0.880383  0.839286\n",
      "6  0.889336  0.839286\n",
      "7  0.896194  0.839286\n",
      "8  0.893023  0.834081\n",
      "9  0.893204  0.835556\n",
      "   train      test\n",
      "0    1.0  0.688995\n",
      "1    1.0  0.778846\n",
      "2    1.0  0.803738\n",
      "3    1.0  0.807512\n",
      "4    1.0  0.805556\n",
      "5    1.0  0.818605\n",
      "6    1.0  0.823529\n",
      "7    1.0  0.821918\n",
      "8    1.0  0.833333\n",
      "9    1.0  0.827907\n",
      "      train      test\n",
      "0  0.928367  0.788462\n"
     ]
    }
   ],
   "source": [
    "print(lr_eval)\n",
    "print(knn_eval)\n",
    "print(svm_eval)\n",
    "print(rf_eval)\n",
    "print(dnn_eval)"
   ]
  }
 ],
 "metadata": {
  "kernelspec": {
   "display_name": "Python 3",
   "language": "python",
   "name": "python3"
  },
  "language_info": {
   "codemirror_mode": {
    "name": "ipython",
    "version": 3
   },
   "file_extension": ".py",
   "mimetype": "text/x-python",
   "name": "python",
   "nbconvert_exporter": "python",
   "pygments_lexer": "ipython3",
   "version": "3.5.6"
  }
 },
 "nbformat": 4,
 "nbformat_minor": 2
}
