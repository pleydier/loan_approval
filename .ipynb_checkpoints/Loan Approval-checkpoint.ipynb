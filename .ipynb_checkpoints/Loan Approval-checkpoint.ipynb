{
 "cells": [
  {
   "cell_type": "markdown",
   "metadata": {},
   "source": [
    "Get the dataset"
   ]
  },
  {
   "cell_type": "code",
   "execution_count": 3,
   "metadata": {},
   "outputs": [
    {
     "data": {
      "text/html": [
       "<div>\n",
       "<style scoped>\n",
       "    .dataframe tbody tr th:only-of-type {\n",
       "        vertical-align: middle;\n",
       "    }\n",
       "\n",
       "    .dataframe tbody tr th {\n",
       "        vertical-align: top;\n",
       "    }\n",
       "\n",
       "    .dataframe thead th {\n",
       "        text-align: right;\n",
       "    }\n",
       "</style>\n",
       "<table border=\"1\" class=\"dataframe\">\n",
       "  <thead>\n",
       "    <tr style=\"text-align: right;\">\n",
       "      <th></th>\n",
       "      <th>Gender</th>\n",
       "      <th>Married</th>\n",
       "      <th>Education</th>\n",
       "      <th>Self_Employed</th>\n",
       "      <th>Property_Area</th>\n",
       "      <th>Dependents</th>\n",
       "      <th>Credit_History</th>\n",
       "      <th>ApplicantIncome</th>\n",
       "      <th>CoapplicantIncome</th>\n",
       "      <th>LoanAmount</th>\n",
       "      <th>Loan_Amount_Term</th>\n",
       "      <th>Loan_Status</th>\n",
       "    </tr>\n",
       "  </thead>\n",
       "  <tbody>\n",
       "    <tr>\n",
       "      <th>0</th>\n",
       "      <td>Male</td>\n",
       "      <td>No</td>\n",
       "      <td>Graduate</td>\n",
       "      <td>No</td>\n",
       "      <td>Urban</td>\n",
       "      <td>0</td>\n",
       "      <td>1.0</td>\n",
       "      <td>5849</td>\n",
       "      <td>0.0</td>\n",
       "      <td>NaN</td>\n",
       "      <td>360.0</td>\n",
       "      <td>Y</td>\n",
       "    </tr>\n",
       "    <tr>\n",
       "      <th>1</th>\n",
       "      <td>Male</td>\n",
       "      <td>Yes</td>\n",
       "      <td>Graduate</td>\n",
       "      <td>No</td>\n",
       "      <td>Rural</td>\n",
       "      <td>1</td>\n",
       "      <td>1.0</td>\n",
       "      <td>4583</td>\n",
       "      <td>1508.0</td>\n",
       "      <td>128.0</td>\n",
       "      <td>360.0</td>\n",
       "      <td>N</td>\n",
       "    </tr>\n",
       "    <tr>\n",
       "      <th>2</th>\n",
       "      <td>Male</td>\n",
       "      <td>Yes</td>\n",
       "      <td>Graduate</td>\n",
       "      <td>Yes</td>\n",
       "      <td>Urban</td>\n",
       "      <td>0</td>\n",
       "      <td>1.0</td>\n",
       "      <td>3000</td>\n",
       "      <td>0.0</td>\n",
       "      <td>66.0</td>\n",
       "      <td>360.0</td>\n",
       "      <td>Y</td>\n",
       "    </tr>\n",
       "    <tr>\n",
       "      <th>3</th>\n",
       "      <td>Male</td>\n",
       "      <td>Yes</td>\n",
       "      <td>Not Graduate</td>\n",
       "      <td>No</td>\n",
       "      <td>Urban</td>\n",
       "      <td>0</td>\n",
       "      <td>1.0</td>\n",
       "      <td>2583</td>\n",
       "      <td>2358.0</td>\n",
       "      <td>120.0</td>\n",
       "      <td>360.0</td>\n",
       "      <td>Y</td>\n",
       "    </tr>\n",
       "    <tr>\n",
       "      <th>4</th>\n",
       "      <td>Male</td>\n",
       "      <td>No</td>\n",
       "      <td>Graduate</td>\n",
       "      <td>No</td>\n",
       "      <td>Urban</td>\n",
       "      <td>0</td>\n",
       "      <td>1.0</td>\n",
       "      <td>6000</td>\n",
       "      <td>0.0</td>\n",
       "      <td>141.0</td>\n",
       "      <td>360.0</td>\n",
       "      <td>Y</td>\n",
       "    </tr>\n",
       "  </tbody>\n",
       "</table>\n",
       "</div>"
      ],
      "text/plain": [
       "  Gender Married     Education Self_Employed Property_Area Dependents  \\\n",
       "0   Male      No      Graduate            No         Urban          0   \n",
       "1   Male     Yes      Graduate            No         Rural          1   \n",
       "2   Male     Yes      Graduate           Yes         Urban          0   \n",
       "3   Male     Yes  Not Graduate            No         Urban          0   \n",
       "4   Male      No      Graduate            No         Urban          0   \n",
       "\n",
       "   Credit_History  ApplicantIncome  CoapplicantIncome  LoanAmount  \\\n",
       "0             1.0             5849                0.0         NaN   \n",
       "1             1.0             4583             1508.0       128.0   \n",
       "2             1.0             3000                0.0        66.0   \n",
       "3             1.0             2583             2358.0       120.0   \n",
       "4             1.0             6000                0.0       141.0   \n",
       "\n",
       "   Loan_Amount_Term Loan_Status  \n",
       "0             360.0           Y  \n",
       "1             360.0           N  \n",
       "2             360.0           Y  \n",
       "3             360.0           Y  \n",
       "4             360.0           Y  "
      ]
     },
     "execution_count": 3,
     "metadata": {},
     "output_type": "execute_result"
    }
   ],
   "source": [
    "import pandas as pd\n",
    "import numpy as np\n",
    "\n",
    "dataset = pd.read_csv('data/loan_approval_dataset.csv')\n",
    "#Exclude first column (id) from X and reorder the columns\n",
    "dataset = dataset[['Gender','Married','Education','Self_Employed','Property_Area','Dependents','Credit_History',\n",
    "                  'ApplicantIncome','CoapplicantIncome','LoanAmount','Loan_Amount_Term','Loan_Status']]\n",
    "dataset.iloc[:5,:]"
   ]
  },
  {
   "cell_type": "code",
   "execution_count": 4,
   "metadata": {},
   "outputs": [],
   "source": [
    "\n",
    "X = dataset.iloc[:,:-1].values\n",
    "y = dataset.iloc[:,-1:].values\n",
    "\n",
    "# Column 5 (Dependents) - 3+ => 3\n",
    "for i in range(X.shape[0]):\n",
    "  if(X[i,5] == '3+'):\n",
    "    X[i,5] = 3\n",
    "\n",
    "# Taking care of missing data\n",
    "from sklearn.preprocessing import Imputer\n",
    "imputer = Imputer(missing_values = 'NaN', strategy = 'mean', axis = 0)\n",
    "imputer = imputer.fit(X[:, 5:])\n",
    "X[:, 5:] = imputer.transform(X[:, 5:])"
   ]
  },
  {
   "cell_type": "code",
   "execution_count": 16,
   "metadata": {},
   "outputs": [],
   "source": [
    "# Encoding the categorical data\n",
    "from sklearn.preprocessing import LabelEncoder, OneHotEncoder\n",
    "X[:, :5] = np.apply_along_axis(LabelEncoder().fit_transform,axis=1, arr=X[:, :5].astype('str'))\n",
    "y = LabelEncoder().fit_transform(y.ravel())\n",
    "onehotencoder = OneHotEncoder(categorical_features = [0,1,2,3,4])\n",
    "X = onehotencoder.fit_transform(X).toarray()"
   ]
  },
  {
   "cell_type": "code",
   "execution_count": 19,
   "metadata": {},
   "outputs": [],
   "source": [
    "# Feature Scaling for numerical data\n",
    "from sklearn.preprocessing import StandardScaler\n",
    "sc = StandardScaler()\n",
    "X[:,20:] = sc.fit_transform(X[:,20:])"
   ]
  },
  {
   "cell_type": "code",
   "execution_count": 20,
   "metadata": {},
   "outputs": [
    {
     "data": {
      "text/html": [
       "<div>\n",
       "<style scoped>\n",
       "    .dataframe tbody tr th:only-of-type {\n",
       "        vertical-align: middle;\n",
       "    }\n",
       "\n",
       "    .dataframe tbody tr th {\n",
       "        vertical-align: top;\n",
       "    }\n",
       "\n",
       "    .dataframe thead th {\n",
       "        text-align: right;\n",
       "    }\n",
       "</style>\n",
       "<table border=\"1\" class=\"dataframe\">\n",
       "  <thead>\n",
       "    <tr style=\"text-align: right;\">\n",
       "      <th></th>\n",
       "      <th>0</th>\n",
       "      <th>1</th>\n",
       "      <th>2</th>\n",
       "      <th>3</th>\n",
       "      <th>4</th>\n",
       "      <th>5</th>\n",
       "      <th>6</th>\n",
       "      <th>7</th>\n",
       "      <th>8</th>\n",
       "      <th>9</th>\n",
       "      <th>...</th>\n",
       "      <th>15</th>\n",
       "      <th>16</th>\n",
       "      <th>17</th>\n",
       "      <th>18</th>\n",
       "      <th>19</th>\n",
       "      <th>20</th>\n",
       "      <th>21</th>\n",
       "      <th>22</th>\n",
       "      <th>23</th>\n",
       "      <th>24</th>\n",
       "    </tr>\n",
       "  </thead>\n",
       "  <tbody>\n",
       "    <tr>\n",
       "      <th>0</th>\n",
       "      <td>0.0</td>\n",
       "      <td>1.0</td>\n",
       "      <td>0.0</td>\n",
       "      <td>0.0</td>\n",
       "      <td>0.0</td>\n",
       "      <td>1.0</td>\n",
       "      <td>0.0</td>\n",
       "      <td>0.0</td>\n",
       "      <td>1.0</td>\n",
       "      <td>0.0</td>\n",
       "      <td>...</td>\n",
       "      <td>0.0</td>\n",
       "      <td>0.0</td>\n",
       "      <td>0.0</td>\n",
       "      <td>1.0</td>\n",
       "      <td>0.0</td>\n",
       "      <td>0.45164</td>\n",
       "      <td>0.072991</td>\n",
       "      <td>-0.554487</td>\n",
       "      <td>3.384786e-16</td>\n",
       "      <td>0.279851</td>\n",
       "    </tr>\n",
       "    <tr>\n",
       "      <th>1</th>\n",
       "      <td>0.0</td>\n",
       "      <td>1.0</td>\n",
       "      <td>0.0</td>\n",
       "      <td>0.0</td>\n",
       "      <td>0.0</td>\n",
       "      <td>0.0</td>\n",
       "      <td>0.0</td>\n",
       "      <td>1.0</td>\n",
       "      <td>1.0</td>\n",
       "      <td>0.0</td>\n",
       "      <td>...</td>\n",
       "      <td>0.0</td>\n",
       "      <td>0.0</td>\n",
       "      <td>0.0</td>\n",
       "      <td>1.0</td>\n",
       "      <td>1.0</td>\n",
       "      <td>0.45164</td>\n",
       "      <td>-0.134412</td>\n",
       "      <td>-0.038732</td>\n",
       "      <td>-2.192733e-01</td>\n",
       "      <td>0.279851</td>\n",
       "    </tr>\n",
       "    <tr>\n",
       "      <th>2</th>\n",
       "      <td>0.0</td>\n",
       "      <td>1.0</td>\n",
       "      <td>0.0</td>\n",
       "      <td>0.0</td>\n",
       "      <td>0.0</td>\n",
       "      <td>0.0</td>\n",
       "      <td>1.0</td>\n",
       "      <td>0.0</td>\n",
       "      <td>1.0</td>\n",
       "      <td>0.0</td>\n",
       "      <td>...</td>\n",
       "      <td>0.0</td>\n",
       "      <td>0.0</td>\n",
       "      <td>1.0</td>\n",
       "      <td>0.0</td>\n",
       "      <td>0.0</td>\n",
       "      <td>0.45164</td>\n",
       "      <td>-0.393747</td>\n",
       "      <td>-0.554487</td>\n",
       "      <td>-9.576410e-01</td>\n",
       "      <td>0.279851</td>\n",
       "    </tr>\n",
       "    <tr>\n",
       "      <th>3</th>\n",
       "      <td>1.0</td>\n",
       "      <td>0.0</td>\n",
       "      <td>0.0</td>\n",
       "      <td>0.0</td>\n",
       "      <td>0.0</td>\n",
       "      <td>0.0</td>\n",
       "      <td>0.0</td>\n",
       "      <td>1.0</td>\n",
       "      <td>0.0</td>\n",
       "      <td>0.0</td>\n",
       "      <td>...</td>\n",
       "      <td>0.0</td>\n",
       "      <td>0.0</td>\n",
       "      <td>0.0</td>\n",
       "      <td>1.0</td>\n",
       "      <td>0.0</td>\n",
       "      <td>0.45164</td>\n",
       "      <td>-0.462062</td>\n",
       "      <td>0.251980</td>\n",
       "      <td>-3.145466e-01</td>\n",
       "      <td>0.279851</td>\n",
       "    </tr>\n",
       "    <tr>\n",
       "      <th>4</th>\n",
       "      <td>0.0</td>\n",
       "      <td>1.0</td>\n",
       "      <td>0.0</td>\n",
       "      <td>0.0</td>\n",
       "      <td>0.0</td>\n",
       "      <td>1.0</td>\n",
       "      <td>0.0</td>\n",
       "      <td>0.0</td>\n",
       "      <td>1.0</td>\n",
       "      <td>0.0</td>\n",
       "      <td>...</td>\n",
       "      <td>0.0</td>\n",
       "      <td>0.0</td>\n",
       "      <td>0.0</td>\n",
       "      <td>1.0</td>\n",
       "      <td>0.0</td>\n",
       "      <td>0.45164</td>\n",
       "      <td>0.097728</td>\n",
       "      <td>-0.554487</td>\n",
       "      <td>-6.445428e-02</td>\n",
       "      <td>0.279851</td>\n",
       "    </tr>\n",
       "  </tbody>\n",
       "</table>\n",
       "<p>5 rows × 25 columns</p>\n",
       "</div>"
      ],
      "text/plain": [
       "    0    1    2    3    4    5    6    7    8    9     ...      15   16   17  \\\n",
       "0  0.0  1.0  0.0  0.0  0.0  1.0  0.0  0.0  1.0  0.0    ...     0.0  0.0  0.0   \n",
       "1  0.0  1.0  0.0  0.0  0.0  0.0  0.0  1.0  1.0  0.0    ...     0.0  0.0  0.0   \n",
       "2  0.0  1.0  0.0  0.0  0.0  0.0  1.0  0.0  1.0  0.0    ...     0.0  0.0  1.0   \n",
       "3  1.0  0.0  0.0  0.0  0.0  0.0  0.0  1.0  0.0  0.0    ...     0.0  0.0  0.0   \n",
       "4  0.0  1.0  0.0  0.0  0.0  1.0  0.0  0.0  1.0  0.0    ...     0.0  0.0  0.0   \n",
       "\n",
       "    18   19       20        21        22            23        24  \n",
       "0  1.0  0.0  0.45164  0.072991 -0.554487  3.384786e-16  0.279851  \n",
       "1  1.0  1.0  0.45164 -0.134412 -0.038732 -2.192733e-01  0.279851  \n",
       "2  0.0  0.0  0.45164 -0.393747 -0.554487 -9.576410e-01  0.279851  \n",
       "3  1.0  0.0  0.45164 -0.462062  0.251980 -3.145466e-01  0.279851  \n",
       "4  1.0  0.0  0.45164  0.097728 -0.554487 -6.445428e-02  0.279851  \n",
       "\n",
       "[5 rows x 25 columns]"
      ]
     },
     "execution_count": 20,
     "metadata": {},
     "output_type": "execute_result"
    }
   ],
   "source": [
    "pd.DataFrame(X).iloc[:5,:]"
   ]
  },
  {
   "cell_type": "code",
   "execution_count": 21,
   "metadata": {},
   "outputs": [],
   "source": [
    "from sklearn.model_selection import train_test_split\n",
    "X_train, X_test, y_train, y_test = train_test_split(X, y, test_size = 0.25)"
   ]
  },
  {
   "cell_type": "markdown",
   "metadata": {},
   "source": [
    "# 2. Models"
   ]
  },
  {
   "cell_type": "markdown",
   "metadata": {},
   "source": [
    "## 2.1 Logistic Regression"
   ]
  },
  {
   "cell_type": "code",
   "execution_count": 22,
   "metadata": {},
   "outputs": [],
   "source": [
    "from sklearn.linear_model import LogisticRegression\n",
    "from sklearn.metrics import accuracy_score\n",
    "import matplotlib.pyplot as plt\n",
    "\n",
    "def logistic_regression(X_train, y_train, X_test, y_test):\n",
    "  classifier = LogisticRegression()\n",
    "  classifier.fit(X_train, y_train)\n",
    "  y_train_pred = classifier.predict(X_train)\n",
    "  y_test_pred = classifier.predict(X_test)\n",
    "  return accuracy_score(y_train_pred, y_train), accuracy_score(y_test_pred,y_test)\n",
    "\n",
    "def show_results(training_eval, test_eval):\n",
    "  plt.gca().set_ylim([0,1])\n",
    "  plt.plot(training_eval, label='Training Accuracy')\n",
    "  plt.plot(test_eval, label='Test Accuracy')\n",
    "  plt.legend()\n",
    "  plt.xlabel('Training set size')\n",
    "  plt.ylabel('Accuracy')\n",
    "  plt.show()"
   ]
  },
  {
   "cell_type": "code",
   "execution_count": 23,
   "metadata": {},
   "outputs": [
    {
     "name": "stdout",
     "output_type": "stream",
     "text": [
      "Logistic Regression 1/10...\r",
      "Logistic Regression 2/10...\r",
      "Logistic Regression 3/10...\r",
      "Logistic Regression 4/10...\r",
      "Logistic Regression 5/10...\r",
      "Logistic Regression 6/10...\r",
      "Logistic Regression 7/10...\r",
      "Logistic Regression 8/10...\r",
      "Logistic Regression 9/10...\r",
      "Logistic Regression 10/10...\r"
     ]
    },
    {
     "name": "stderr",
     "output_type": "stream",
     "text": [
      "/usr/local/envs/py3env/lib/python3.5/site-packages/matplotlib/font_manager.py:1320: UserWarning: findfont: Font family ['sans-serif'] not found. Falling back to DejaVu Sans\n",
      "  (prop.get_family(), self.defaultFamily[fontext]))\n"
     ]
    },
    {
     "data": {
      "image/png": "[encoded data removed]",
      "text/plain": [
       "<matplotlib.figure.Figure at 0x7ff61c8d9400>"
      ]
     },
     "metadata": {},
     "output_type": "display_data"
    }
   ],
   "source": [
    "lr_eval = pd.DataFrame(0, index=range(10), columns=['train', 'test']).astype(float)\n",
    "\n",
    "for i in range(10):\n",
    "  print('Logistic Regression {}/10...'.format(i+1), end='\\r')\n",
    "  subset_size = int(round(((i+1)*X_train.shape[0]/10)))\n",
    "  [lr_eval.values[i,0],lr_eval.values[i,1]] = logistic_regression(X_train[:subset_size,:], y_train[:subset_size], X_test, y_test)\n",
    "  \n",
    "show_results(lr_eval['train'], lr_eval['test'])"
   ]
  },
  {
   "cell_type": "markdown",
   "metadata": {},
   "source": [
    "## 2.2 K-Nearest Neighbors"
   ]
  },
  {
   "cell_type": "code",
   "execution_count": 43,
   "metadata": {},
   "outputs": [],
   "source": [
    "from sklearn.neighbors import KNeighborsClassifier\n",
    "def knn(X_train,y_train,X_test,y_test):\n",
    "  classifier = KNeighborsClassifier(n_neighbors = 10, metric = 'minkowski', p = 2)\n",
    "  classifier.fit(X_train, y_train)\n",
    "  y_train_pred = classifier.predict(X_train)\n",
    "  y_test_pred = classifier.predict(X_test)\n",
    "  return accuracy_score(y_train_pred, y_train), accuracy_score(y_test_pred, y_test)"
   ]
  },
  {
   "cell_type": "code",
   "execution_count": 44,
   "metadata": {},
   "outputs": [
    {
     "name": "stdout",
     "output_type": "stream",
     "text": [
      "KNN 1/10...\r",
      "KNN 2/10...\r",
      "KNN 3/10...\r",
      "KNN 4/10...\r",
      "KNN 5/10...\r",
      "KNN 6/10...\r",
      "KNN 7/10...\r",
      "KNN 8/10...\r",
      "KNN 9/10...\r",
      "KNN 10/10...\r"
     ]
    },
    {
     "name": "stderr",
     "output_type": "stream",
     "text": [
      "/usr/local/envs/py3env/lib/python3.5/site-packages/matplotlib/font_manager.py:1320: UserWarning: findfont: Font family ['sans-serif'] not found. Falling back to DejaVu Sans\n",
      "  (prop.get_family(), self.defaultFamily[fontext]))\n"
     ]
    },
    {
     "data": {
      "image/png": "[encoded data removed]",
      "text/plain": [
       "<matplotlib.figure.Figure at 0x7ff60dfd8710>"
      ]
     },
     "metadata": {},
     "output_type": "display_data"
    }
   ],
   "source": [
    "knn_eval = pd.DataFrame(0, index=range(10), columns=['train', 'test']).astype(float)\n",
    "\n",
    "for i in range(10):\n",
    "  print('KNN {}/10...'.format(i+1), end='\\r')\n",
    "  subset_size = int(round(((i+1)*X_train.shape[0]/10)))\n",
    "  [knn_eval.values[i,0],knn_eval.values[i,1]] = knn(X_train[:subset_size,:], y_train[:subset_size], X_test, y_test)\n",
    "  \n",
    "show_results(knn_eval['train'], knn_eval['test'])"
   ]
  },
  {
   "cell_type": "markdown",
   "metadata": {},
   "source": [
    "## 2.3 Support Vector Machine"
   ]
  },
  {
   "cell_type": "code",
   "execution_count": 48,
   "metadata": {},
   "outputs": [],
   "source": [
    "from sklearn.svm import SVC\n",
    "\n",
    "def svm(X_train, y_train, X_test, y_test):\n",
    "  classifier = SVC(kernel = 'rbf')\n",
    "  classifier.fit(X_train, y_train)\n",
    "  y_test_pred = classifier.predict(X_test)\n",
    "  y_train_pred = classifier.predict(X_train)\n",
    "  return accuracy_score(y_train_pred, y_train), accuracy_score(y_test_pred, y_test)"
   ]
  },
  {
   "cell_type": "code",
   "execution_count": 49,
   "metadata": {},
   "outputs": [
    {
     "name": "stdout",
     "output_type": "stream",
     "text": [
      "SVM 1/10...\r",
      "SVM 2/10...\r",
      "SVM 3/10...\r",
      "SVM 4/10...\r",
      "SVM 5/10...\r",
      "SVM 6/10...\r",
      "SVM 7/10...\r",
      "SVM 8/10...\r",
      "SVM 9/10...\r",
      "SVM 10/10...\r"
     ]
    },
    {
     "name": "stderr",
     "output_type": "stream",
     "text": [
      "/usr/local/envs/py3env/lib/python3.5/site-packages/matplotlib/font_manager.py:1320: UserWarning: findfont: Font family ['sans-serif'] not found. Falling back to DejaVu Sans\n",
      "  (prop.get_family(), self.defaultFamily[fontext]))\n"
     ]
    },
    {
     "data": {
      "image/png": "[encoded data removed]",
      "text/plain": [
       "<matplotlib.figure.Figure at 0x7ff60dfc2278>"
      ]
     },
     "metadata": {},
     "output_type": "display_data"
    }
   ],
   "source": [
    "svm_eval = pd.DataFrame(0, index=range(10), columns=['train', 'test']).astype(float)\n",
    "\n",
    "for i in range(10):\n",
    "  print('SVM {}/10...'.format(i+1), end='\\r')\n",
    "  subset_size = int(round(((i+1)*X_train.shape[0]/10)))\n",
    "  [svm_eval.values[i,0],svm_eval.values[i,1]] = svm(X_train[:subset_size,:], y_train[:subset_size], X_test, y_test)\n",
    "  \n",
    "show_results(svm_eval['train'], svm_eval['test'])"
   ]
  },
  {
   "cell_type": "markdown",
   "metadata": {},
   "source": [
    "## 2.4 Naives Bayes"
   ]
  },
  {
   "cell_type": "code",
   "execution_count": 50,
   "metadata": {},
   "outputs": [],
   "source": [
    "from sklearn.naive_bayes import GaussianNB\n",
    "  \n",
    "def naive_bayes(X_train, y_train, X_test, y_test):\n",
    "  classifier = GaussianNB()\n",
    "  classifier.fit(X_train, y_train)\n",
    "  y_test_pred = classifier.predict(X_test)\n",
    "  y_train_pred = classifier.predict(X_train)\n",
    "  return accuracy_score(y_train_pred, y_train), accuracy_score(y_test_pred, y_test)"
   ]
  },
  {
   "cell_type": "code",
   "execution_count": 51,
   "metadata": {},
   "outputs": [
    {
     "name": "stdout",
     "output_type": "stream",
     "text": [
      "Naives Bayes 1/10...\r",
      "Naives Bayes 2/10...\r",
      "Naives Bayes 3/10...\r",
      "Naives Bayes 4/10...\r",
      "Naives Bayes 5/10...\r",
      "Naives Bayes 6/10...\r",
      "Naives Bayes 7/10...\r",
      "Naives Bayes 8/10...\r",
      "Naives Bayes 9/10...\r",
      "Naives Bayes 10/10...\r"
     ]
    },
    {
     "name": "stderr",
     "output_type": "stream",
     "text": [
      "/usr/local/envs/py3env/lib/python3.5/site-packages/matplotlib/font_manager.py:1320: UserWarning: findfont: Font family ['sans-serif'] not found. Falling back to DejaVu Sans\n",
      "  (prop.get_family(), self.defaultFamily[fontext]))\n"
     ]
    },
    {
     "data": {
      "image/png": "[encoded data removed]",
      "text/plain": [
       "<matplotlib.figure.Figure at 0x7ff60df3c9e8>"
      ]
     },
     "metadata": {},
     "output_type": "display_data"
    }
   ],
   "source": [
    "nb_eval = pd.DataFrame(0, index=range(10), columns=['train', 'test']).astype(float)\n",
    "\n",
    "for i in range(10):\n",
    "  print('Naives Bayes {}/10...'.format(i+1), end='\\r')\n",
    "  subset_size = int(round(((i+1)*X_train.shape[0]/10)))\n",
    "  [nb_eval.values[i,0],nb_eval.values[i,1]] = svm(X_train[:subset_size,:], y_train[:subset_size], X_test, y_test)\n",
    "  \n",
    "show_results(nb_eval['train'], nb_eval['test'])"
   ]
  },
  {
   "cell_type": "markdown",
   "metadata": {},
   "source": [
    "## 2.5 Random Forest Classification"
   ]
  },
  {
   "cell_type": "code",
   "execution_count": 58,
   "metadata": {},
   "outputs": [],
   "source": [
    "from sklearn.ensemble import RandomForestClassifier\n",
    "\n",
    "def random_forest(X_train,y_train,X_test,y_test):\n",
    "  classifier = RandomForestClassifier(n_estimators = 100, criterion = 'entropy')\n",
    "  classifier.fit(X_train, y_train)\n",
    "  y_test_pred = classifier.predict(X_test)\n",
    "  y_train_pred = classifier.predict(X_train)\n",
    "  return accuracy_score(y_train_pred, y_train), accuracy_score(y_test_pred, y_test)"
   ]
  },
  {
   "cell_type": "code",
   "execution_count": 59,
   "metadata": {},
   "outputs": [
    {
     "name": "stdout",
     "output_type": "stream",
     "text": [
      "Random Forest 10/10...\r"
     ]
    },
    {
     "name": "stderr",
     "output_type": "stream",
     "text": [
      "/usr/local/envs/py3env/lib/python3.5/site-packages/matplotlib/font_manager.py:1320: UserWarning: findfont: Font family ['sans-serif'] not found. Falling back to DejaVu Sans\n",
      "  (prop.get_family(), self.defaultFamily[fontext]))\n"
     ]
    },
    {
     "data": {
      "image/png": "[encoded data removed]",
      "text/plain": [
       "<matplotlib.figure.Figure at 0x7ff60dfa0780>"
      ]
     },
     "metadata": {},
     "output_type": "display_data"
    }
   ],
   "source": [
    "rf_eval = pd.DataFrame(0, index=range(10), columns=['train', 'test']).astype(float)\n",
    "\n",
    "for i in range(10):\n",
    "  print('Random Forest {}/10...'.format(i+1), end='\\r')\n",
    "  subset_size = int(round(((i+1)*X_train.shape[0]/10)))\n",
    "  [rf_eval.values[i,0],rf_eval.values[i,1]] = random_forest(X_train[:subset_size,:], y_train[:subset_size], X_test, y_test)\n",
    "  \n",
    "show_results(rf_eval['train'], rf_eval['test'])"
   ]
  }
 ],
 "metadata": {
  "kernelspec": {
   "display_name": "Python 3",
   "language": "python",
   "name": "python3"
  },
  "language_info": {
   "codemirror_mode": {
    "name": "ipython",
    "version": 3
   },
   "file_extension": ".py",
   "mimetype": "text/x-python",
   "name": "python",
   "nbconvert_exporter": "python",
   "pygments_lexer": "ipython3",
   "version": "3.5.6"
  }
 },
 "nbformat": 4,
 "nbformat_minor": 2
}
